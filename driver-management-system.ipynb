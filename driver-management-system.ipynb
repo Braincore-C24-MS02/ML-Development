{
 "cells": [
  {
   "cell_type": "markdown",
   "id": "11d931d4",
   "metadata": {
    "papermill": {
     "duration": 0.005069,
     "end_time": "2024-05-31T04:38:31.284057",
     "exception": false,
     "start_time": "2024-05-31T04:38:31.278988",
     "status": "completed"
    },
    "tags": []
   },
   "source": [
    "## Before you start\n",
    "\n",
    "Let's make sure that we have access to GPU. We can use `nvidia-smi` command to do that."
   ]
  },
  {
   "cell_type": "code",
   "execution_count": 1,
   "id": "c2532d4c",
   "metadata": {
    "execution": {
     "iopub.execute_input": "2024-05-31T04:38:31.295033Z",
     "iopub.status.busy": "2024-05-31T04:38:31.294122Z",
     "iopub.status.idle": "2024-05-31T04:38:32.349856Z",
     "shell.execute_reply": "2024-05-31T04:38:32.348730Z"
    },
    "papermill": {
     "duration": 1.063561,
     "end_time": "2024-05-31T04:38:32.352147",
     "exception": false,
     "start_time": "2024-05-31T04:38:31.288586",
     "status": "completed"
    },
    "tags": []
   },
   "outputs": [
    {
     "name": "stdout",
     "output_type": "stream",
     "text": [
      "Fri May 31 04:38:32 2024       \r\n",
      "+---------------------------------------------------------------------------------------+\r\n",
      "| NVIDIA-SMI 535.129.03             Driver Version: 535.129.03   CUDA Version: 12.2     |\r\n",
      "|-----------------------------------------+----------------------+----------------------+\r\n",
      "| GPU  Name                 Persistence-M | Bus-Id        Disp.A | Volatile Uncorr. ECC |\r\n",
      "| Fan  Temp   Perf          Pwr:Usage/Cap |         Memory-Usage | GPU-Util  Compute M. |\r\n",
      "|                                         |                      |               MIG M. |\r\n",
      "|=========================================+======================+======================|\r\n",
      "|   0  Tesla T4                       Off | 00000000:00:04.0 Off |                    0 |\r\n",
      "| N/A   56C    P8              10W /  70W |      0MiB / 15360MiB |      0%      Default |\r\n",
      "|                                         |                      |                  N/A |\r\n",
      "+-----------------------------------------+----------------------+----------------------+\r\n",
      "|   1  Tesla T4                       Off | 00000000:00:05.0 Off |                    0 |\r\n",
      "| N/A   43C    P8               9W /  70W |      0MiB / 15360MiB |      0%      Default |\r\n",
      "|                                         |                      |                  N/A |\r\n",
      "+-----------------------------------------+----------------------+----------------------+\r\n",
      "                                                                                         \r\n",
      "+---------------------------------------------------------------------------------------+\r\n",
      "| Processes:                                                                            |\r\n",
      "|  GPU   GI   CI        PID   Type   Process name                            GPU Memory |\r\n",
      "|        ID   ID                                                             Usage      |\r\n",
      "|=======================================================================================|\r\n",
      "|  No running processes found                                                           |\r\n",
      "+---------------------------------------------------------------------------------------+\r\n"
     ]
    }
   ],
   "source": [
    "!nvidia-smi"
   ]
  },
  {
   "cell_type": "code",
   "execution_count": 2,
   "id": "f15311a5",
   "metadata": {
    "execution": {
     "iopub.execute_input": "2024-05-31T04:38:32.362879Z",
     "iopub.status.busy": "2024-05-31T04:38:32.362565Z",
     "iopub.status.idle": "2024-05-31T04:38:32.367465Z",
     "shell.execute_reply": "2024-05-31T04:38:32.366584Z"
    },
    "papermill": {
     "duration": 0.012847,
     "end_time": "2024-05-31T04:38:32.369730",
     "exception": false,
     "start_time": "2024-05-31T04:38:32.356883",
     "status": "completed"
    },
    "tags": []
   },
   "outputs": [
    {
     "name": "stdout",
     "output_type": "stream",
     "text": [
      "/kaggle/working\n"
     ]
    }
   ],
   "source": [
    "import os\n",
    "HOME = os.getcwd()\n",
    "print(HOME)"
   ]
  },
  {
   "cell_type": "markdown",
   "id": "1834ab56",
   "metadata": {
    "papermill": {
     "duration": 0.004486,
     "end_time": "2024-05-31T04:38:32.378757",
     "exception": false,
     "start_time": "2024-05-31T04:38:32.374271",
     "status": "completed"
    },
    "tags": []
   },
   "source": [
    "## Install YOLOv8"
   ]
  },
  {
   "cell_type": "code",
   "execution_count": 3,
   "id": "8e093904",
   "metadata": {
    "execution": {
     "iopub.execute_input": "2024-05-31T04:38:32.389416Z",
     "iopub.status.busy": "2024-05-31T04:38:32.389091Z",
     "iopub.status.idle": "2024-05-31T04:38:57.216866Z",
     "shell.execute_reply": "2024-05-31T04:38:57.215880Z"
    },
    "papermill": {
     "duration": 24.835397,
     "end_time": "2024-05-31T04:38:57.218912",
     "exception": false,
     "start_time": "2024-05-31T04:38:32.383515",
     "status": "completed"
    },
    "tags": []
   },
   "outputs": [
    {
     "name": "stderr",
     "output_type": "stream",
     "text": [
      "Ultralytics YOLOv8.0.196 🚀 Python-3.10.13 torch-2.1.2 CUDA:0 (Tesla T4, 15102MiB)\n",
      "Setup complete ✅ (4 CPUs, 31.4 GB RAM, 5643.4/8062.4 GB disk)\n"
     ]
    }
   ],
   "source": [
    "# Pip install method (recommended)\n",
    "\n",
    "!pip install ultralytics==8.0.196\n",
    "\n",
    "import ultralytics\n",
    "ultralytics.checks()"
   ]
  },
  {
   "cell_type": "code",
   "execution_count": 4,
   "id": "0f1efb88",
   "metadata": {
    "execution": {
     "iopub.execute_input": "2024-05-31T04:38:57.230332Z",
     "iopub.status.busy": "2024-05-31T04:38:57.229943Z",
     "iopub.status.idle": "2024-05-31T04:38:57.235732Z",
     "shell.execute_reply": "2024-05-31T04:38:57.235041Z"
    },
    "papermill": {
     "duration": 0.013453,
     "end_time": "2024-05-31T04:38:57.237567",
     "exception": false,
     "start_time": "2024-05-31T04:38:57.224114",
     "status": "completed"
    },
    "tags": []
   },
   "outputs": [],
   "source": [
    "from IPython import display\n",
    "display.clear_output()\n",
    "\n",
    "from IPython.display import Image\n",
    "from ultralytics import YOLO"
   ]
  },
  {
   "cell_type": "markdown",
   "id": "d56aaaf0",
   "metadata": {
    "papermill": {
     "duration": 0.0047,
     "end_time": "2024-05-31T04:38:57.247148",
     "exception": false,
     "start_time": "2024-05-31T04:38:57.242448",
     "status": "completed"
    },
    "tags": []
   },
   "source": [
    "## Preparing a custom dataset"
   ]
  },
  {
   "cell_type": "code",
   "execution_count": 5,
   "id": "72481071",
   "metadata": {
    "execution": {
     "iopub.execute_input": "2024-05-31T04:38:57.258065Z",
     "iopub.status.busy": "2024-05-31T04:38:57.257820Z",
     "iopub.status.idle": "2024-05-31T04:39:46.020088Z",
     "shell.execute_reply": "2024-05-31T04:39:46.019245Z"
    },
    "papermill": {
     "duration": 48.770363,
     "end_time": "2024-05-31T04:39:46.022584",
     "exception": false,
     "start_time": "2024-05-31T04:38:57.252221",
     "status": "completed"
    },
    "tags": []
   },
   "outputs": [
    {
     "name": "stdout",
     "output_type": "stream",
     "text": [
      "/kaggle/working/datasets\n",
      "Collecting roboflow\r\n",
      "  Downloading roboflow-1.1.30-py3-none-any.whl.metadata (9.3 kB)\r\n",
      "Collecting certifi==2023.7.22 (from roboflow)\r\n",
      "  Downloading certifi-2023.7.22-py3-none-any.whl.metadata (2.2 kB)\r\n",
      "Collecting chardet==4.0.0 (from roboflow)\r\n",
      "  Downloading chardet-4.0.0-py2.py3-none-any.whl.metadata (3.5 kB)\r\n",
      "Collecting cycler==0.10.0 (from roboflow)\r\n",
      "  Downloading cycler-0.10.0-py2.py3-none-any.whl.metadata (722 bytes)\r\n",
      "Collecting idna==2.10 (from roboflow)\r\n",
      "  Downloading idna-2.10-py2.py3-none-any.whl.metadata (9.1 kB)\r\n",
      "Requirement already satisfied: kiwisolver>=1.3.1 in /opt/conda/lib/python3.10/site-packages (from roboflow) (1.4.5)\r\n",
      "Requirement already satisfied: matplotlib in /opt/conda/lib/python3.10/site-packages (from roboflow) (3.7.5)\r\n",
      "Requirement already satisfied: numpy>=1.18.5 in /opt/conda/lib/python3.10/site-packages (from roboflow) (1.26.4)\r\n",
      "Collecting opencv-python-headless==4.8.0.74 (from roboflow)\r\n",
      "  Downloading opencv_python_headless-4.8.0.74-cp37-abi3-manylinux_2_17_x86_64.manylinux2014_x86_64.whl.metadata (19 kB)\r\n",
      "Requirement already satisfied: Pillow>=7.1.2 in /opt/conda/lib/python3.10/site-packages (from roboflow) (9.5.0)\r\n",
      "Requirement already satisfied: python-dateutil in /opt/conda/lib/python3.10/site-packages (from roboflow) (2.9.0.post0)\r\n",
      "Requirement already satisfied: python-dotenv in /opt/conda/lib/python3.10/site-packages (from roboflow) (1.0.0)\r\n",
      "Requirement already satisfied: requests in /opt/conda/lib/python3.10/site-packages (from roboflow) (2.31.0)\r\n",
      "Requirement already satisfied: six in /opt/conda/lib/python3.10/site-packages (from roboflow) (1.16.0)\r\n",
      "Requirement already satisfied: urllib3>=1.26.6 in /opt/conda/lib/python3.10/site-packages (from roboflow) (1.26.18)\r\n",
      "Requirement already satisfied: tqdm>=4.41.0 in /opt/conda/lib/python3.10/site-packages (from roboflow) (4.66.1)\r\n",
      "Requirement already satisfied: PyYAML>=5.3.1 in /opt/conda/lib/python3.10/site-packages (from roboflow) (6.0.1)\r\n",
      "Requirement already satisfied: requests-toolbelt in /opt/conda/lib/python3.10/site-packages (from roboflow) (0.10.1)\r\n",
      "Collecting python-magic (from roboflow)\r\n",
      "  Downloading python_magic-0.4.27-py2.py3-none-any.whl.metadata (5.8 kB)\r\n",
      "Requirement already satisfied: contourpy>=1.0.1 in /opt/conda/lib/python3.10/site-packages (from matplotlib->roboflow) (1.2.0)\r\n",
      "Requirement already satisfied: fonttools>=4.22.0 in /opt/conda/lib/python3.10/site-packages (from matplotlib->roboflow) (4.47.0)\r\n",
      "Requirement already satisfied: packaging>=20.0 in /opt/conda/lib/python3.10/site-packages (from matplotlib->roboflow) (21.3)\r\n",
      "Requirement already satisfied: pyparsing>=2.3.1 in /opt/conda/lib/python3.10/site-packages (from matplotlib->roboflow) (3.1.1)\r\n",
      "Requirement already satisfied: charset-normalizer<4,>=2 in /opt/conda/lib/python3.10/site-packages (from requests->roboflow) (3.3.2)\r\n",
      "Downloading roboflow-1.1.30-py3-none-any.whl (75 kB)\r\n",
      "\u001b[2K   \u001b[90m━━━━━━━━━━━━━━━━━━━━━━━━━━━━━━━━━━━━━━━━\u001b[0m \u001b[32m75.5/75.5 kB\u001b[0m \u001b[31m1.2 MB/s\u001b[0m eta \u001b[36m0:00:00\u001b[0m\r\n",
      "\u001b[?25hDownloading certifi-2023.7.22-py3-none-any.whl (158 kB)\r\n",
      "\u001b[2K   \u001b[90m━━━━━━━━━━━━━━━━━━━━━━━━━━━━━━━━━━━━━━━━\u001b[0m \u001b[32m158.3/158.3 kB\u001b[0m \u001b[31m2.7 MB/s\u001b[0m eta \u001b[36m0:00:00\u001b[0m\r\n",
      "\u001b[?25hDownloading chardet-4.0.0-py2.py3-none-any.whl (178 kB)\r\n",
      "\u001b[2K   \u001b[90m━━━━━━━━━━━━━━━━━━━━━━━━━━━━━━━━━━━━━━━━\u001b[0m \u001b[32m178.7/178.7 kB\u001b[0m \u001b[31m7.8 MB/s\u001b[0m eta \u001b[36m0:00:00\u001b[0m\r\n",
      "\u001b[?25hDownloading cycler-0.10.0-py2.py3-none-any.whl (6.5 kB)\r\n",
      "Downloading idna-2.10-py2.py3-none-any.whl (58 kB)\r\n",
      "\u001b[2K   \u001b[90m━━━━━━━━━━━━━━━━━━━━━━━━━━━━━━━━━━━━━━━━\u001b[0m \u001b[32m58.8/58.8 kB\u001b[0m \u001b[31m3.6 MB/s\u001b[0m eta \u001b[36m0:00:00\u001b[0m\r\n",
      "\u001b[?25hDownloading opencv_python_headless-4.8.0.74-cp37-abi3-manylinux_2_17_x86_64.manylinux2014_x86_64.whl (49.1 MB)\r\n",
      "\u001b[2K   \u001b[90m━━━━━━━━━━━━━━━━━━━━━━━━━━━━━━━━━━━━━━━━\u001b[0m \u001b[32m49.1/49.1 MB\u001b[0m \u001b[31m30.2 MB/s\u001b[0m eta \u001b[36m0:00:00\u001b[0m\r\n",
      "\u001b[?25hDownloading python_magic-0.4.27-py2.py3-none-any.whl (13 kB)\r\n",
      "Installing collected packages: python-magic, opencv-python-headless, idna, cycler, chardet, certifi, roboflow\r\n",
      "  Attempting uninstall: opencv-python-headless\r\n",
      "    Found existing installation: opencv-python-headless 4.9.0.80\r\n",
      "    Uninstalling opencv-python-headless-4.9.0.80:\r\n",
      "      Successfully uninstalled opencv-python-headless-4.9.0.80\r\n",
      "  Attempting uninstall: idna\r\n",
      "    Found existing installation: idna 3.6\r\n",
      "    Uninstalling idna-3.6:\r\n",
      "      Successfully uninstalled idna-3.6\r\n",
      "  Attempting uninstall: cycler\r\n",
      "    Found existing installation: cycler 0.12.1\r\n",
      "    Uninstalling cycler-0.12.1:\r\n",
      "      Successfully uninstalled cycler-0.12.1\r\n",
      "  Attempting uninstall: certifi\r\n",
      "    Found existing installation: certifi 2024.2.2\r\n",
      "    Uninstalling certifi-2024.2.2:\r\n",
      "      Successfully uninstalled certifi-2024.2.2\r\n",
      "\u001b[31mERROR: pip's dependency resolver does not currently take into account all the packages that are installed. This behaviour is the source of the following dependency conflicts.\r\n",
      "tensorflow-decision-forests 1.8.1 requires wurlitzer, which is not installed.\r\n",
      "jupyterlab 4.1.6 requires jupyter-lsp>=2.0.0, but you have jupyter-lsp 1.5.1 which is incompatible.\r\n",
      "jupyterlab-lsp 5.1.0 requires jupyter-lsp>=2.0.0, but you have jupyter-lsp 1.5.1 which is incompatible.\r\n",
      "libpysal 4.9.2 requires packaging>=22, but you have packaging 21.3 which is incompatible.\r\n",
      "libpysal 4.9.2 requires shapely>=2.0.1, but you have shapely 1.8.5.post1 which is incompatible.\r\n",
      "momepy 0.7.0 requires shapely>=2, but you have shapely 1.8.5.post1 which is incompatible.\r\n",
      "osmnx 1.9.2 requires shapely>=2.0, but you have shapely 1.8.5.post1 which is incompatible.\r\n",
      "spopt 0.6.0 requires shapely>=2.0.1, but you have shapely 1.8.5.post1 which is incompatible.\r\n",
      "tensorflow 2.15.0 requires keras<2.16,>=2.15.0, but you have keras 3.2.1 which is incompatible.\r\n",
      "ydata-profiling 4.6.4 requires numpy<1.26,>=1.16.0, but you have numpy 1.26.4 which is incompatible.\u001b[0m\u001b[31m\r\n",
      "\u001b[0mSuccessfully installed certifi-2023.7.22 chardet-4.0.0 cycler-0.10.0 idna-2.10 opencv-python-headless-4.8.0.74 python-magic-0.4.27 roboflow-1.1.30\r\n",
      "loading Roboflow workspace...\n",
      "loading Roboflow project...\n"
     ]
    },
    {
     "name": "stderr",
     "output_type": "stream",
     "text": [
      "Downloading Dataset Version Zip in driving-monitoring-system-2 to yolov8:: 100%|██████████| 929067/929067 [00:21<00:00, 42911.38it/s]"
     ]
    },
    {
     "name": "stdout",
     "output_type": "stream",
     "text": [
      "\n"
     ]
    },
    {
     "name": "stderr",
     "output_type": "stream",
     "text": [
      "\n",
      "Extracting Dataset Version Zip to driving-monitoring-system-2 in yolov8:: 100%|██████████| 49836/49836 [00:06<00:00, 7938.89it/s]\n"
     ]
    }
   ],
   "source": [
    "!mkdir {HOME}/datasets\n",
    "%cd {HOME}/datasets\n",
    "\n",
    "!pip install roboflow\n",
    "\n",
    "from roboflow import Roboflow\n",
    "rf = Roboflow(api_key=\"AgRivcdffivrgaoMEErV\")\n",
    "project = rf.workspace(\"driver-wlf6m\").project(\"driving-monitoring-system\")\n",
    "version = project.version(2)\n",
    "dataset = version.download(\"yolov8\")"
   ]
  },
  {
   "cell_type": "markdown",
   "id": "11570e80",
   "metadata": {
    "papermill": {
     "duration": 0.030414,
     "end_time": "2024-05-31T04:39:49.220696",
     "exception": false,
     "start_time": "2024-05-31T04:39:49.190282",
     "status": "completed"
    },
    "tags": []
   },
   "source": [
    "## Custom training\n",
    "\n",
    "Don't forget to add `resume` parameter so that you can continue your training"
   ]
  },
  {
   "cell_type": "code",
   "execution_count": 6,
   "id": "52330169",
   "metadata": {
    "execution": {
     "iopub.execute_input": "2024-05-31T04:39:49.284165Z",
     "iopub.status.busy": "2024-05-31T04:39:49.283820Z",
     "iopub.status.idle": "2024-05-31T12:02:03.322007Z",
     "shell.execute_reply": "2024-05-31T12:02:03.321031Z"
    },
    "papermill": {
     "duration": 26534.072516,
     "end_time": "2024-05-31T12:02:03.324719",
     "exception": false,
     "start_time": "2024-05-31T04:39:49.252203",
     "status": "completed"
    },
    "tags": []
   },
   "outputs": [
    {
     "name": "stdout",
     "output_type": "stream",
     "text": [
      "/kaggle/working\n",
      "Downloading https://github.com/ultralytics/assets/releases/download/v0.0.0/yolov8s.pt to 'yolov8s.pt'...\r\n",
      "100%|███████████████████████████████████████| 21.5M/21.5M [00:00<00:00, 123MB/s]\r\n",
      "New https://pypi.org/project/ultralytics/8.2.26 available 😃 Update with 'pip install -U ultralytics'\r\n",
      "Ultralytics YOLOv8.0.196 🚀 Python-3.10.13 torch-2.1.2 CUDA:0 (Tesla T4, 15102MiB)\r\n",
      "\u001b[34m\u001b[1mengine/trainer: \u001b[0mtask=detect, mode=train, model=yolov8s.pt, data=/kaggle/working/datasets/driving-monitoring-system-2/data.yaml, epochs=75, patience=50, batch=-1, imgsz=640, save=True, save_period=-1, cache=False, device=None, workers=8, project=None, name=None, exist_ok=False, pretrained=True, optimizer=auto, verbose=True, seed=0, deterministic=True, single_cls=False, rect=False, cos_lr=False, close_mosaic=10, resume=False, amp=True, fraction=1.0, profile=False, freeze=None, overlap_mask=True, mask_ratio=4, dropout=0.0, val=True, split=val, save_json=False, save_hybrid=False, conf=None, iou=0.7, max_det=300, half=False, dnn=False, plots=True, source=None, show=False, save_txt=False, save_conf=False, save_crop=False, show_labels=True, show_conf=True, vid_stride=1, stream_buffer=False, line_width=None, visualize=False, augment=False, agnostic_nms=False, classes=None, retina_masks=False, boxes=True, format=torchscript, keras=False, optimize=False, int8=False, dynamic=False, simplify=False, opset=None, workspace=4, nms=False, lr0=0.01, lrf=0.01, momentum=0.937, weight_decay=0.0005, warmup_epochs=3.0, warmup_momentum=0.8, warmup_bias_lr=0.1, box=7.5, cls=0.5, dfl=1.5, pose=12.0, kobj=1.0, label_smoothing=0.0, nbs=64, hsv_h=0.015, hsv_s=0.7, hsv_v=0.4, degrees=0.0, translate=0.1, scale=0.5, shear=0.0, perspective=0.0, flipud=0.0, fliplr=0.5, mosaic=1.0, mixup=0.0, copy_paste=0.0, cfg=None, tracker=botsort.yaml, save_dir=runs/detect/train\r\n",
      "Downloading https://ultralytics.com/assets/Arial.ttf to '/root/.config/Ultralytics/Arial.ttf'...\r\n",
      "100%|████████████████████████████████████████| 755k/755k [00:00<00:00, 13.2MB/s]\r\n",
      "2024-05-31 04:40:06.285369: E external/local_xla/xla/stream_executor/cuda/cuda_dnn.cc:9261] Unable to register cuDNN factory: Attempting to register factory for plugin cuDNN when one has already been registered\r\n",
      "2024-05-31 04:40:06.285471: E external/local_xla/xla/stream_executor/cuda/cuda_fft.cc:607] Unable to register cuFFT factory: Attempting to register factory for plugin cuFFT when one has already been registered\r\n",
      "2024-05-31 04:40:06.453450: E external/local_xla/xla/stream_executor/cuda/cuda_blas.cc:1515] Unable to register cuBLAS factory: Attempting to register factory for plugin cuBLAS when one has already been registered\r\n",
      "Overriding model.yaml nc=80 with nc=5\r\n",
      "\r\n",
      "                   from  n    params  module                                       arguments                     \r\n",
      "  0                  -1  1       928  ultralytics.nn.modules.conv.Conv             [3, 32, 3, 2]                 \r\n",
      "  1                  -1  1     18560  ultralytics.nn.modules.conv.Conv             [32, 64, 3, 2]                \r\n",
      "  2                  -1  1     29056  ultralytics.nn.modules.block.C2f             [64, 64, 1, True]             \r\n",
      "  3                  -1  1     73984  ultralytics.nn.modules.conv.Conv             [64, 128, 3, 2]               \r\n",
      "  4                  -1  2    197632  ultralytics.nn.modules.block.C2f             [128, 128, 2, True]           \r\n",
      "  5                  -1  1    295424  ultralytics.nn.modules.conv.Conv             [128, 256, 3, 2]              \r\n",
      "  6                  -1  2    788480  ultralytics.nn.modules.block.C2f             [256, 256, 2, True]           \r\n",
      "  7                  -1  1   1180672  ultralytics.nn.modules.conv.Conv             [256, 512, 3, 2]              \r\n",
      "  8                  -1  1   1838080  ultralytics.nn.modules.block.C2f             [512, 512, 1, True]           \r\n",
      "  9                  -1  1    656896  ultralytics.nn.modules.block.SPPF            [512, 512, 5]                 \r\n",
      " 10                  -1  1         0  torch.nn.modules.upsampling.Upsample         [None, 2, 'nearest']          \r\n",
      " 11             [-1, 6]  1         0  ultralytics.nn.modules.conv.Concat           [1]                           \r\n",
      " 12                  -1  1    591360  ultralytics.nn.modules.block.C2f             [768, 256, 1]                 \r\n",
      " 13                  -1  1         0  torch.nn.modules.upsampling.Upsample         [None, 2, 'nearest']          \r\n",
      " 14             [-1, 4]  1         0  ultralytics.nn.modules.conv.Concat           [1]                           \r\n",
      " 15                  -1  1    148224  ultralytics.nn.modules.block.C2f             [384, 128, 1]                 \r\n",
      " 16                  -1  1    147712  ultralytics.nn.modules.conv.Conv             [128, 128, 3, 2]              \r\n",
      " 17            [-1, 12]  1         0  ultralytics.nn.modules.conv.Concat           [1]                           \r\n",
      " 18                  -1  1    493056  ultralytics.nn.modules.block.C2f             [384, 256, 1]                 \r\n",
      " 19                  -1  1    590336  ultralytics.nn.modules.conv.Conv             [256, 256, 3, 2]              \r\n",
      " 20             [-1, 9]  1         0  ultralytics.nn.modules.conv.Concat           [1]                           \r\n",
      " 21                  -1  1   1969152  ultralytics.nn.modules.block.C2f             [768, 512, 1]                 \r\n",
      " 22        [15, 18, 21]  1   2117983  ultralytics.nn.modules.head.Detect           [5, [128, 256, 512]]          \r\n",
      "Model summary: 225 layers, 11137535 parameters, 11137519 gradients, 28.7 GFLOPs\r\n",
      "\r\n",
      "Transferred 349/355 items from pretrained weights\r\n",
      "\u001b[34m\u001b[1mTensorBoard: \u001b[0mStart with 'tensorboard --logdir runs/detect/train', view at http://localhost:6006/\r\n",
      "Freezing layer 'model.22.dfl.conv.weight'\r\n",
      "\u001b[34m\u001b[1mAMP: \u001b[0mrunning Automatic Mixed Precision (AMP) checks with YOLOv8n...\r\n",
      "Downloading https://github.com/ultralytics/assets/releases/download/v0.0.0/yolov8n.pt to 'yolov8n.pt'...\r\n",
      "100%|██████████████████████████████████████| 6.23M/6.23M [00:00<00:00, 74.9MB/s]\r\n",
      "\u001b[34m\u001b[1mAMP: \u001b[0mchecks passed ✅\r\n",
      "\u001b[34m\u001b[1mAutoBatch: \u001b[0mComputing optimal batch size for imgsz=640\r\n",
      "\u001b[34m\u001b[1mAutoBatch: \u001b[0mCUDA:0 (Tesla T4) 14.75G total, 0.25G reserved, 0.11G allocated, 14.39G free\r\n",
      "      Params      GFLOPs  GPU_mem (GB)  forward (ms) backward (ms)                   input                  output\r\n",
      "    11137535       28.66         0.367         31.43         145.4        (1, 3, 640, 640)                    list\r\n",
      "    11137535       57.31         0.560          19.3         58.48        (2, 3, 640, 640)                    list\r\n",
      "    11137535       114.6         1.065         26.15         61.15        (4, 3, 640, 640)                    list\r\n",
      "    11137535       229.2         1.898         39.26         70.18        (8, 3, 640, 640)                    list\r\n",
      "    11137535       458.5         3.636         71.35         97.05       (16, 3, 640, 640)                    list\r\n",
      "\u001b[34m\u001b[1mAutoBatch: \u001b[0mUsing batch-size 38 for CUDA:0 8.80G/14.75G (60%) ✅\r\n",
      "\u001b[34m\u001b[1mtrain: \u001b[0mScanning /kaggle/working/datasets/driving-monitoring-system-2/train/label\u001b[0m\r\n",
      "\u001b[34m\u001b[1mtrain: \u001b[0mWARNING ⚠️ /kaggle/working/datasets/driving-monitoring-system-2/train/images/EzsbUnTX0AE8OQB_jpg.rf.15fe273a56c5e74187b9aacdbe6989f4.jpg: 1 duplicate labels removed\r\n",
      "\u001b[34m\u001b[1mtrain: \u001b[0mWARNING ⚠️ /kaggle/working/datasets/driving-monitoring-system-2/train/images/EzsbUnTX0AE8OQB_jpg.rf.35f6308ed9f5c67e514bd0619dbd3216.jpg: 1 duplicate labels removed\r\n",
      "\u001b[34m\u001b[1mtrain: \u001b[0mWARNING ⚠️ /kaggle/working/datasets/driving-monitoring-system-2/train/images/EzsbUnTX0AE8OQB_jpg.rf.4119ac27ef2555d8eaa6bc52c8c3aaeb.jpg: 1 duplicate labels removed\r\n",
      "\u001b[34m\u001b[1mtrain: \u001b[0mNew cache created: /kaggle/working/datasets/driving-monitoring-system-2/train/labels.cache\r\n",
      "WARNING ⚠️ Box and segment counts should be equal, but got len(segments) = 3985, len(boxes) = 33224. To resolve this only boxes will be used and all segments will be removed. To avoid this please supply either a detect or segment dataset, not a detect-segment mixed dataset.\r\n",
      "\u001b[34m\u001b[1malbumentations: \u001b[0mBlur(p=0.01, blur_limit=(3, 7)), MedianBlur(p=0.01, blur_limit=(3, 7)), ToGray(p=0.01), CLAHE(p=0.01, clip_limit=(1, 4.0), tile_grid_size=(8, 8))\r\n",
      "\u001b[34m\u001b[1mval: \u001b[0mScanning /kaggle/working/datasets/driving-monitoring-system-2/valid/labels.\u001b[0m\r\n",
      "\u001b[34m\u001b[1mval: \u001b[0mNew cache created: /kaggle/working/datasets/driving-monitoring-system-2/valid/labels.cache\r\n",
      "WARNING ⚠️ Box and segment counts should be equal, but got len(segments) = 372, len(boxes) = 2014. To resolve this only boxes will be used and all segments will be removed. To avoid this please supply either a detect or segment dataset, not a detect-segment mixed dataset.\r\n",
      "Plotting labels to runs/detect/train/labels.jpg... \r\n",
      "\u001b[34m\u001b[1moptimizer:\u001b[0m 'optimizer=auto' found, ignoring 'lr0=0.01' and 'momentum=0.937' and determining best 'optimizer', 'lr0' and 'momentum' automatically... \r\n",
      "\u001b[34m\u001b[1moptimizer:\u001b[0m SGD(lr=0.01, momentum=0.9) with parameter groups 57 weight(decay=0.0), 64 weight(decay=0.00059375), 63 bias(decay=0.0)\r\n",
      "Image sizes 640 train, 640 val\r\n",
      "Using 2 dataloader workers\r\n",
      "Logging results to \u001b[1mruns/detect/train\u001b[0m\r\n",
      "Starting training for 75 epochs...\r\n",
      "\r\n",
      "      Epoch    GPU_mem   box_loss   cls_loss   dfl_loss  Instances       Size\r\n",
      "       1/75      9.56G      1.435      1.803      1.677         15        640: 1\r\n",
      "                 Class     Images  Instances      Box(P          R      mAP50  m\r\n",
      "                   all       1392       2014      0.588      0.584       0.54      0.302\r\n",
      "\r\n",
      "      Epoch    GPU_mem   box_loss   cls_loss   dfl_loss  Instances       Size\r\n",
      "       2/75      9.57G      1.308      1.216      1.551         22        640: 1\r\n",
      "                 Class     Images  Instances      Box(P          R      mAP50  m\r\n",
      "                   all       1392       2014      0.565      0.438       0.42      0.212\r\n",
      "\r\n",
      "      Epoch    GPU_mem   box_loss   cls_loss   dfl_loss  Instances       Size\r\n",
      "       3/75      9.13G      1.334      1.275       1.58         13        640: 1\r\n",
      "                 Class     Images  Instances      Box(P          R      mAP50  m\r\n",
      "                   all       1392       2014       0.53      0.406      0.427      0.247\r\n",
      "\r\n",
      "      Epoch    GPU_mem   box_loss   cls_loss   dfl_loss  Instances       Size\r\n",
      "       4/75      10.5G      1.373      1.339      1.617         10        640: 1\r\n",
      "                 Class     Images  Instances      Box(P          R      mAP50  m\r\n",
      "                   all       1392       2014       0.63      0.544      0.569      0.331\r\n",
      "\r\n",
      "      Epoch    GPU_mem   box_loss   cls_loss   dfl_loss  Instances       Size\r\n",
      "       5/75      10.2G       1.32      1.245      1.573         10        640: 1\r\n",
      "                 Class     Images  Instances      Box(P          R      mAP50  m\r\n",
      "                   all       1392       2014      0.628      0.585      0.555      0.323\r\n",
      "\r\n",
      "      Epoch    GPU_mem   box_loss   cls_loss   dfl_loss  Instances       Size\r\n",
      "       6/75      9.66G      1.271      1.165      1.529         12        640: 1\r\n",
      "                 Class     Images  Instances      Box(P          R      mAP50  m\r\n",
      "                   all       1392       2014      0.681      0.539       0.57      0.335\r\n",
      "\r\n",
      "      Epoch    GPU_mem   box_loss   cls_loss   dfl_loss  Instances       Size\r\n",
      "       7/75      9.97G      1.235        1.1      1.503         13        640: 1\r\n",
      "                 Class     Images  Instances      Box(P          R      mAP50  m\r\n",
      "                   all       1392       2014      0.736      0.674      0.702      0.432\r\n",
      "\r\n",
      "      Epoch    GPU_mem   box_loss   cls_loss   dfl_loss  Instances       Size\r\n",
      "       8/75      9.68G      1.214      1.056       1.48         18        640: 1\r\n",
      "                 Class     Images  Instances      Box(P          R      mAP50  m\r\n",
      "                   all       1392       2014      0.703       0.64      0.681       0.41\r\n",
      "\r\n",
      "      Epoch    GPU_mem   box_loss   cls_loss   dfl_loss  Instances       Size\r\n",
      "       9/75      9.69G      1.191      1.025      1.464         18        640: 1\r\n",
      "                 Class     Images  Instances      Box(P          R      mAP50  m\r\n",
      "                   all       1392       2014      0.743      0.719      0.743      0.471\r\n",
      "\r\n",
      "      Epoch    GPU_mem   box_loss   cls_loss   dfl_loss  Instances       Size\r\n",
      "      10/75      9.74G      1.171     0.9949      1.444         19        640: 1\r\n",
      "                 Class     Images  Instances      Box(P          R      mAP50  m\r\n",
      "                   all       1392       2014      0.771       0.73      0.768      0.487\r\n",
      "\r\n",
      "      Epoch    GPU_mem   box_loss   cls_loss   dfl_loss  Instances       Size\r\n",
      "      11/75      10.1G      1.154     0.9607      1.432          8        640: 1\r\n",
      "                 Class     Images  Instances      Box(P          R      mAP50  m\r\n",
      "                   all       1392       2014      0.761      0.723      0.751      0.489\r\n",
      "\r\n",
      "      Epoch    GPU_mem   box_loss   cls_loss   dfl_loss  Instances       Size\r\n",
      "      12/75      9.79G      1.138     0.9513       1.42         22        640: 1\r\n",
      "                 Class     Images  Instances      Box(P          R      mAP50  m\r\n",
      "                   all       1392       2014      0.796      0.714      0.765      0.505\r\n",
      "\r\n",
      "      Epoch    GPU_mem   box_loss   cls_loss   dfl_loss  Instances       Size\r\n",
      "      13/75      10.2G      1.124     0.9287      1.409         12        640: 1\r\n",
      "                 Class     Images  Instances      Box(P          R      mAP50  m\r\n",
      "                   all       1392       2014      0.805      0.767      0.799      0.522\r\n",
      "\r\n",
      "      Epoch    GPU_mem   box_loss   cls_loss   dfl_loss  Instances       Size\r\n",
      "      14/75      9.75G      1.113     0.9043      1.397         25        640: 1\r\n",
      "                 Class     Images  Instances      Box(P          R      mAP50  m\r\n",
      "                   all       1392       2014      0.795       0.78      0.802      0.514\r\n",
      "\r\n",
      "      Epoch    GPU_mem   box_loss   cls_loss   dfl_loss  Instances       Size\r\n",
      "      15/75      9.16G      1.099      0.884      1.388         27        640: 1\r\n",
      "                 Class     Images  Instances      Box(P          R      mAP50  m\r\n",
      "                   all       1392       2014      0.817      0.757      0.802      0.536\r\n",
      "\r\n",
      "      Epoch    GPU_mem   box_loss   cls_loss   dfl_loss  Instances       Size\r\n",
      "      16/75        10G      1.093     0.8802      1.386         19        640: 1\r\n",
      "                 Class     Images  Instances      Box(P          R      mAP50  m\r\n",
      "                   all       1392       2014      0.803      0.759      0.804      0.531\r\n",
      "\r\n",
      "      Epoch    GPU_mem   box_loss   cls_loss   dfl_loss  Instances       Size\r\n",
      "      17/75        10G      1.081     0.8616      1.379         13        640: 1\r\n",
      "                 Class     Images  Instances      Box(P          R      mAP50  m\r\n",
      "                   all       1392       2014      0.803      0.759      0.806      0.535\r\n",
      "\r\n",
      "      Epoch    GPU_mem   box_loss   cls_loss   dfl_loss  Instances       Size\r\n",
      "      18/75        10G      1.075     0.8476      1.371         10        640: 1\r\n",
      "                 Class     Images  Instances      Box(P          R      mAP50  m\r\n",
      "                   all       1392       2014      0.801      0.788       0.82      0.554\r\n",
      "\r\n",
      "      Epoch    GPU_mem   box_loss   cls_loss   dfl_loss  Instances       Size\r\n",
      "      19/75      9.72G      1.074     0.8423      1.367          9        640: 1\r\n",
      "                 Class     Images  Instances      Box(P          R      mAP50  m\r\n",
      "                   all       1392       2014      0.834      0.793       0.84      0.573\r\n",
      "\r\n",
      "      Epoch    GPU_mem   box_loss   cls_loss   dfl_loss  Instances       Size\r\n",
      "      20/75      9.54G      1.056     0.8275      1.356         32        640: 1\r\n",
      "                 Class     Images  Instances      Box(P          R      mAP50  m\r\n",
      "                   all       1392       2014      0.818      0.797      0.832      0.557\r\n",
      "\r\n",
      "      Epoch    GPU_mem   box_loss   cls_loss   dfl_loss  Instances       Size\r\n",
      "      21/75       9.8G      1.044     0.8136      1.349         12        640: 1\r\n",
      "                 Class     Images  Instances      Box(P          R      mAP50  m\r\n",
      "                   all       1392       2014      0.843      0.777      0.822       0.56\r\n",
      "\r\n",
      "      Epoch    GPU_mem   box_loss   cls_loss   dfl_loss  Instances       Size\r\n",
      "      22/75      9.14G      1.038     0.8081      1.345         15        640: 1\r\n",
      "                 Class     Images  Instances      Box(P          R      mAP50  m\r\n",
      "                   all       1392       2014      0.818      0.802      0.841      0.573\r\n",
      "\r\n",
      "      Epoch    GPU_mem   box_loss   cls_loss   dfl_loss  Instances       Size\r\n",
      "      23/75      10.2G      1.037     0.8032      1.338         13        640: 1\r\n",
      "                 Class     Images  Instances      Box(P          R      mAP50  m\r\n",
      "                   all       1392       2014      0.826      0.803      0.847      0.576\r\n",
      "\r\n",
      "      Epoch    GPU_mem   box_loss   cls_loss   dfl_loss  Instances       Size\r\n",
      "      24/75      10.6G      1.027     0.7892       1.33         16        640: 1\r\n",
      "                 Class     Images  Instances      Box(P          R      mAP50  m\r\n",
      "                   all       1392       2014      0.863      0.801      0.854      0.582\r\n",
      "\r\n",
      "      Epoch    GPU_mem   box_loss   cls_loss   dfl_loss  Instances       Size\r\n",
      "      25/75      9.66G      1.016     0.7758      1.326         25        640: 1\r\n",
      "                 Class     Images  Instances      Box(P          R      mAP50  m\r\n",
      "                   all       1392       2014      0.851      0.811      0.858      0.588\r\n",
      "\r\n",
      "      Epoch    GPU_mem   box_loss   cls_loss   dfl_loss  Instances       Size\r\n",
      "      26/75      10.3G      1.015      0.768      1.323         16        640: 1\r\n",
      "                 Class     Images  Instances      Box(P          R      mAP50  m\r\n",
      "                   all       1392       2014      0.858      0.824      0.871      0.593\r\n",
      "\r\n",
      "      Epoch    GPU_mem   box_loss   cls_loss   dfl_loss  Instances       Size\r\n",
      "      27/75      10.2G      1.014     0.7648      1.321         13        640: 1\r\n",
      "                 Class     Images  Instances      Box(P          R      mAP50  m\r\n",
      "                   all       1392       2014      0.834      0.826      0.866      0.603\r\n",
      "\r\n",
      "      Epoch    GPU_mem   box_loss   cls_loss   dfl_loss  Instances       Size\r\n",
      "      28/75      9.75G          1      0.749      1.313         15        640: 1\r\n",
      "                 Class     Images  Instances      Box(P          R      mAP50  m\r\n",
      "                   all       1392       2014      0.852      0.834      0.872      0.602\r\n",
      "\r\n",
      "      Epoch    GPU_mem   box_loss   cls_loss   dfl_loss  Instances       Size\r\n",
      "      29/75      10.2G          1     0.7543      1.313         16        640: 1\r\n",
      "                 Class     Images  Instances      Box(P          R      mAP50  m\r\n",
      "                   all       1392       2014      0.844      0.836      0.874      0.603\r\n",
      "\r\n",
      "      Epoch    GPU_mem   box_loss   cls_loss   dfl_loss  Instances       Size\r\n",
      "      30/75      9.66G     0.9923     0.7396      1.306         13        640: 1\r\n",
      "                 Class     Images  Instances      Box(P          R      mAP50  m\r\n",
      "                   all       1392       2014      0.868      0.831      0.875       0.61\r\n",
      "\r\n",
      "      Epoch    GPU_mem   box_loss   cls_loss   dfl_loss  Instances       Size\r\n",
      "      31/75      10.4G     0.9807     0.7314      1.299         18        640: 1\r\n",
      "                 Class     Images  Instances      Box(P          R      mAP50  m\r\n",
      "                   all       1392       2014      0.884      0.831      0.888      0.613\r\n",
      "\r\n",
      "      Epoch    GPU_mem   box_loss   cls_loss   dfl_loss  Instances       Size\r\n",
      "      32/75      9.52G     0.9846      0.726        1.3         68        640: 1\r\n",
      "                 Class     Images  Instances      Box(P          R      mAP50  m\r\n",
      "                   all       1392       2014      0.859      0.843      0.884      0.612\r\n",
      "\r\n",
      "      Epoch    GPU_mem   box_loss   cls_loss   dfl_loss  Instances       Size\r\n",
      "      33/75      10.2G     0.9756     0.7204      1.296         14        640: 1\r\n",
      "                 Class     Images  Instances      Box(P          R      mAP50  m\r\n",
      "                   all       1392       2014      0.873       0.82      0.884       0.62\r\n",
      "\r\n",
      "      Epoch    GPU_mem   box_loss   cls_loss   dfl_loss  Instances       Size\r\n",
      "      34/75      9.55G     0.9707      0.717      1.294          9        640: 1\r\n",
      "                 Class     Images  Instances      Box(P          R      mAP50  m\r\n",
      "                   all       1392       2014      0.887      0.831       0.89      0.625\r\n",
      "\r\n",
      "      Epoch    GPU_mem   box_loss   cls_loss   dfl_loss  Instances       Size\r\n",
      "      35/75      9.59G      0.965     0.7113      1.285         17        640: 1\r\n",
      "                 Class     Images  Instances      Box(P          R      mAP50  m\r\n",
      "                   all       1392       2014      0.855      0.862       0.89      0.624\r\n",
      "\r\n",
      "      Epoch    GPU_mem   box_loss   cls_loss   dfl_loss  Instances       Size\r\n",
      "      36/75      9.67G     0.9562     0.6968       1.28         15        640: 1\r\n",
      "                 Class     Images  Instances      Box(P          R      mAP50  m\r\n",
      "                   all       1392       2014      0.884      0.853      0.897      0.626\r\n",
      "\r\n",
      "      Epoch    GPU_mem   box_loss   cls_loss   dfl_loss  Instances       Size\r\n",
      "      37/75      9.71G     0.9494     0.6934      1.278         14        640: 1\r\n",
      "                 Class     Images  Instances      Box(P          R      mAP50  m\r\n",
      "                   all       1392       2014      0.866      0.865      0.897      0.632\r\n",
      "\r\n",
      "      Epoch    GPU_mem   box_loss   cls_loss   dfl_loss  Instances       Size\r\n",
      "      38/75      10.4G     0.9491     0.6912      1.274         16        640: 1\r\n",
      "                 Class     Images  Instances      Box(P          R      mAP50  m\r\n",
      "                   all       1392       2014      0.861      0.849      0.895      0.629\r\n",
      "\r\n",
      "      Epoch    GPU_mem   box_loss   cls_loss   dfl_loss  Instances       Size\r\n",
      "      39/75        10G       0.94     0.6765       1.27         13        640: 1\r\n",
      "                 Class     Images  Instances      Box(P          R      mAP50  m\r\n",
      "                   all       1392       2014      0.872      0.847      0.895      0.633\r\n",
      "\r\n",
      "      Epoch    GPU_mem   box_loss   cls_loss   dfl_loss  Instances       Size\r\n",
      "      40/75      10.6G      0.934     0.6754      1.265         16        640: 1\r\n",
      "                 Class     Images  Instances      Box(P          R      mAP50  m\r\n",
      "                   all       1392       2014      0.878      0.853      0.898      0.636\r\n",
      "\r\n",
      "      Epoch    GPU_mem   box_loss   cls_loss   dfl_loss  Instances       Size\r\n",
      "      41/75      9.75G     0.9383     0.6799      1.265         91        640: 1\r\n",
      "                 Class     Images  Instances      Box(P          R      mAP50  m\r\n",
      "                   all       1392       2014      0.872       0.85      0.898      0.637\r\n",
      "\r\n",
      "      Epoch    GPU_mem   box_loss   cls_loss   dfl_loss  Instances       Size\r\n",
      "      42/75      9.15G     0.9262     0.6679      1.259         13        640: 1\r\n",
      "                 Class     Images  Instances      Box(P          R      mAP50  m\r\n",
      "                   all       1392       2014       0.87      0.846      0.895      0.635\r\n",
      "\r\n",
      "      Epoch    GPU_mem   box_loss   cls_loss   dfl_loss  Instances       Size\r\n",
      "      43/75      10.2G     0.9239     0.6614      1.256         12        640: 1\r\n",
      "                 Class     Images  Instances      Box(P          R      mAP50  m\r\n",
      "                   all       1392       2014       0.87      0.842      0.892      0.635\r\n",
      "\r\n",
      "      Epoch    GPU_mem   box_loss   cls_loss   dfl_loss  Instances       Size\r\n",
      "      44/75      9.58G     0.9141     0.6565      1.253         10        640: 1\r\n",
      "                 Class     Images  Instances      Box(P          R      mAP50  m\r\n",
      "                   all       1392       2014       0.87       0.84      0.893       0.64\r\n",
      "\r\n",
      "      Epoch    GPU_mem   box_loss   cls_loss   dfl_loss  Instances       Size\r\n",
      "      45/75      10.3G      0.913     0.6456       1.25         18        640: 1\r\n",
      "                 Class     Images  Instances      Box(P          R      mAP50  m\r\n",
      "                   all       1392       2014      0.872       0.85      0.898      0.641\r\n",
      "\r\n",
      "      Epoch    GPU_mem   box_loss   cls_loss   dfl_loss  Instances       Size\r\n",
      "      46/75      9.66G     0.9035     0.6404      1.245         12        640: 1\r\n",
      "                 Class     Images  Instances      Box(P          R      mAP50  m\r\n",
      "                   all       1392       2014      0.878      0.847      0.899      0.641\r\n",
      "\r\n",
      "      Epoch    GPU_mem   box_loss   cls_loss   dfl_loss  Instances       Size\r\n",
      "      47/75        10G     0.8992     0.6391      1.243         15        640: 1\r\n",
      "                 Class     Images  Instances      Box(P          R      mAP50  m\r\n",
      "                   all       1392       2014      0.872      0.844      0.899      0.642\r\n",
      "\r\n",
      "      Epoch    GPU_mem   box_loss   cls_loss   dfl_loss  Instances       Size\r\n",
      "      48/75      9.28G     0.8965     0.6268      1.237         15        640: 1\r\n",
      "                 Class     Images  Instances      Box(P          R      mAP50  m\r\n",
      "                   all       1392       2014      0.876      0.846      0.899      0.644\r\n",
      "\r\n",
      "      Epoch    GPU_mem   box_loss   cls_loss   dfl_loss  Instances       Size\r\n",
      "      49/75      9.15G     0.8877     0.6273      1.235         15        640: 1\r\n",
      "                 Class     Images  Instances      Box(P          R      mAP50  m\r\n",
      "                   all       1392       2014      0.871      0.857        0.9      0.645\r\n",
      "\r\n",
      "      Epoch    GPU_mem   box_loss   cls_loss   dfl_loss  Instances       Size\r\n",
      "      50/75      9.82G     0.8915     0.6235      1.233         32        640: 1\r\n",
      "                 Class     Images  Instances      Box(P          R      mAP50  m\r\n",
      "                   all       1392       2014      0.875      0.852      0.901      0.647\r\n",
      "\r\n",
      "      Epoch    GPU_mem   box_loss   cls_loss   dfl_loss  Instances       Size\r\n",
      "      51/75      9.14G     0.8802     0.6123      1.227         18        640: 1\r\n",
      "                 Class     Images  Instances      Box(P          R      mAP50  m\r\n",
      "                   all       1392       2014      0.874      0.861      0.905      0.649\r\n",
      "\r\n",
      "      Epoch    GPU_mem   box_loss   cls_loss   dfl_loss  Instances       Size\r\n",
      "      52/75      9.77G     0.8736     0.6142      1.225         15        640: 1\r\n",
      "                 Class     Images  Instances      Box(P          R      mAP50  m\r\n",
      "                   all       1392       2014      0.876      0.855      0.906      0.649\r\n",
      "\r\n",
      "      Epoch    GPU_mem   box_loss   cls_loss   dfl_loss  Instances       Size\r\n",
      "      53/75      10.2G     0.8735     0.6067      1.225         17        640: 1\r\n",
      "                 Class     Images  Instances      Box(P          R      mAP50  m\r\n",
      "                   all       1392       2014      0.878      0.859      0.905       0.65\r\n",
      "\r\n",
      "      Epoch    GPU_mem   box_loss   cls_loss   dfl_loss  Instances       Size\r\n",
      "      54/75      10.3G     0.8644     0.5983      1.217         19        640: 1\r\n",
      "                 Class     Images  Instances      Box(P          R      mAP50  m\r\n",
      "                   all       1392       2014      0.862      0.868      0.907      0.651\r\n",
      "\r\n",
      "      Epoch    GPU_mem   box_loss   cls_loss   dfl_loss  Instances       Size\r\n",
      "      55/75      10.2G     0.8575     0.5955      1.214         18        640: 1\r\n",
      "                 Class     Images  Instances      Box(P          R      mAP50  m\r\n",
      "                   all       1392       2014      0.868       0.87      0.908       0.65\r\n",
      "\r\n",
      "      Epoch    GPU_mem   box_loss   cls_loss   dfl_loss  Instances       Size\r\n",
      "      56/75      9.58G     0.8524     0.5892      1.209         19        640: 1\r\n",
      "                 Class     Images  Instances      Box(P          R      mAP50  m\r\n",
      "                   all       1392       2014      0.871      0.872      0.908      0.651\r\n",
      "\r\n",
      "      Epoch    GPU_mem   box_loss   cls_loss   dfl_loss  Instances       Size\r\n",
      "      57/75      10.2G     0.8475     0.5849      1.206         15        640: 1\r\n",
      "                 Class     Images  Instances      Box(P          R      mAP50  m\r\n",
      "                   all       1392       2014      0.868      0.873       0.91      0.654\r\n",
      "\r\n",
      "      Epoch    GPU_mem   box_loss   cls_loss   dfl_loss  Instances       Size\r\n",
      "      58/75      9.76G      0.846     0.5785      1.205         14        640: 1\r\n",
      "                 Class     Images  Instances      Box(P          R      mAP50  m\r\n",
      "                   all       1392       2014      0.869      0.872       0.91      0.654\r\n",
      "\r\n",
      "      Epoch    GPU_mem   box_loss   cls_loss   dfl_loss  Instances       Size\r\n",
      "      59/75      10.7G     0.8363     0.5745      1.199         15        640: 1\r\n",
      "                 Class     Images  Instances      Box(P          R      mAP50  m\r\n",
      "                   all       1392       2014      0.876      0.868      0.911      0.655\r\n",
      "\r\n",
      "      Epoch    GPU_mem   box_loss   cls_loss   dfl_loss  Instances       Size\r\n",
      "      60/75      10.2G     0.8352     0.5682      1.197         78        640: 1\r\n",
      "                 Class     Images  Instances      Box(P          R      mAP50  m\r\n",
      "                   all       1392       2014      0.873       0.87      0.911      0.656\r\n",
      "\r\n",
      "      Epoch    GPU_mem   box_loss   cls_loss   dfl_loss  Instances       Size\r\n",
      "      61/75      9.75G     0.8254     0.5698      1.194         12        640: 1\r\n",
      "                 Class     Images  Instances      Box(P          R      mAP50  m\r\n",
      "                   all       1392       2014      0.872      0.872      0.911      0.657\r\n",
      "\r\n",
      "      Epoch    GPU_mem   box_loss   cls_loss   dfl_loss  Instances       Size\r\n",
      "      62/75      9.86G     0.8272     0.5637      1.191         13        640: 1\r\n",
      "                 Class     Images  Instances      Box(P          R      mAP50  m\r\n",
      "                   all       1392       2014      0.873       0.87      0.911      0.657\r\n",
      "\r\n",
      "      Epoch    GPU_mem   box_loss   cls_loss   dfl_loss  Instances       Size\r\n",
      "      63/75      9.83G     0.8144     0.5508      1.186         13        640: 1\r\n",
      "                 Class     Images  Instances      Box(P          R      mAP50  m\r\n",
      "                   all       1392       2014      0.871      0.869       0.91      0.658\r\n",
      "\r\n",
      "      Epoch    GPU_mem   box_loss   cls_loss   dfl_loss  Instances       Size\r\n",
      "      64/75      10.3G     0.8079     0.5446       1.18         15        640: 1\r\n",
      "                 Class     Images  Instances      Box(P          R      mAP50  m\r\n",
      "                   all       1392       2014      0.872      0.872       0.91      0.658\r\n",
      "\r\n",
      "      Epoch    GPU_mem   box_loss   cls_loss   dfl_loss  Instances       Size\r\n",
      "      65/75      9.81G     0.8046     0.5422       1.18         12        640: 1\r\n",
      "                 Class     Images  Instances      Box(P          R      mAP50  m\r\n",
      "                   all       1392       2014      0.871       0.87       0.91      0.659\r\n",
      "Closing dataloader mosaic\r\n",
      "\u001b[34m\u001b[1malbumentations: \u001b[0mBlur(p=0.01, blur_limit=(3, 7)), MedianBlur(p=0.01, blur_limit=(3, 7)), ToGray(p=0.01), CLAHE(p=0.01, clip_limit=(1, 4.0), tile_grid_size=(8, 8))\r\n",
      "\r\n",
      "      Epoch    GPU_mem   box_loss   cls_loss   dfl_loss  Instances       Size\r\n",
      "      66/75      10.6G     0.7163        0.4       1.16          5        640: 1\r\n",
      "                 Class     Images  Instances      Box(P          R      mAP50  m\r\n",
      "                   all       1392       2014      0.872      0.868       0.91      0.659\r\n",
      "\r\n",
      "      Epoch    GPU_mem   box_loss   cls_loss   dfl_loss  Instances       Size\r\n",
      "      67/75      10.2G     0.6994     0.3853      1.149          9        640: 1\r\n",
      "                 Class     Images  Instances      Box(P          R      mAP50  m\r\n",
      "                   all       1392       2014       0.87       0.87       0.91      0.659\r\n",
      "\r\n",
      "      Epoch    GPU_mem   box_loss   cls_loss   dfl_loss  Instances       Size\r\n",
      "      68/75      10.7G      0.689      0.379      1.138          5        640: 1\r\n",
      "                 Class     Images  Instances      Box(P          R      mAP50  m\r\n",
      "                   all       1392       2014      0.871      0.872       0.91      0.659\r\n",
      "\r\n",
      "      Epoch    GPU_mem   box_loss   cls_loss   dfl_loss  Instances       Size\r\n",
      "      69/75      9.73G     0.6761     0.3719       1.13          8        640: 1\r\n",
      "                 Class     Images  Instances      Box(P          R      mAP50  m\r\n",
      "                   all       1392       2014      0.867      0.872      0.911       0.66\r\n",
      "\r\n",
      "      Epoch    GPU_mem   box_loss   cls_loss   dfl_loss  Instances       Size\r\n",
      "      70/75      9.72G     0.6658     0.3646      1.122          5        640: 1\r\n",
      "                 Class     Images  Instances      Box(P          R      mAP50  m\r\n",
      "                   all       1392       2014      0.869      0.873      0.912      0.661\r\n",
      "\r\n",
      "      Epoch    GPU_mem   box_loss   cls_loss   dfl_loss  Instances       Size\r\n",
      "      71/75      10.7G     0.6565      0.358      1.115          5        640: 1\r\n",
      "                 Class     Images  Instances      Box(P          R      mAP50  m\r\n",
      "                   all       1392       2014      0.872      0.872      0.912      0.662\r\n",
      "\r\n",
      "      Epoch    GPU_mem   box_loss   cls_loss   dfl_loss  Instances       Size\r\n",
      "      72/75      10.3G     0.6532     0.3526      1.113          5        640: 1\r\n",
      "                 Class     Images  Instances      Box(P          R      mAP50  m\r\n",
      "                   all       1392       2014      0.872      0.871      0.912      0.663\r\n",
      "\r\n",
      "      Epoch    GPU_mem   box_loss   cls_loss   dfl_loss  Instances       Size\r\n",
      "      73/75      10.3G     0.6377     0.3468        1.1          8        640: 1\r\n",
      "                 Class     Images  Instances      Box(P          R      mAP50  m\r\n",
      "                   all       1392       2014      0.872       0.87      0.912      0.662\r\n",
      "\r\n",
      "      Epoch    GPU_mem   box_loss   cls_loss   dfl_loss  Instances       Size\r\n",
      "      74/75      9.79G       0.63     0.3396      1.094          7        640: 1\r\n",
      "                 Class     Images  Instances      Box(P          R      mAP50  m\r\n",
      "                   all       1392       2014      0.868      0.869      0.912      0.663\r\n",
      "\r\n",
      "      Epoch    GPU_mem   box_loss   cls_loss   dfl_loss  Instances       Size\r\n",
      "      75/75      10.7G     0.6249     0.3382      1.091         13        640: 1\r\n",
      "                 Class     Images  Instances      Box(P          R      mAP50  m\r\n",
      "                   all       1392       2014      0.886      0.853      0.912      0.663\r\n",
      "\r\n",
      "75 epochs completed in 7.345 hours.\r\n",
      "Optimizer stripped from runs/detect/train/weights/last.pt, 22.5MB\r\n",
      "Optimizer stripped from runs/detect/train/weights/best.pt, 22.5MB\r\n",
      "\r\n",
      "Validating runs/detect/train/weights/best.pt...\r\n",
      "Ultralytics YOLOv8.0.196 🚀 Python-3.10.13 torch-2.1.2 CUDA:0 (Tesla T4, 15102MiB)\r\n",
      "Model summary (fused): 168 layers, 11127519 parameters, 0 gradients, 28.4 GFLOPs\r\n",
      "                 Class     Images  Instances      Box(P          R      mAP50  m\r\n",
      "                   all       1392       2014      0.872      0.871      0.912      0.662\r\n",
      "                bottle       1392        801      0.888       0.84      0.917      0.689\r\n",
      "             cigarette       1392        166       0.84      0.687      0.774      0.431\r\n",
      "                 phone       1392         73      0.893       0.91      0.955       0.66\r\n",
      "                 smoke       1392        864      0.998          1      0.995      0.908\r\n",
      "                  vape       1392        110      0.742      0.917      0.919      0.624\r\n",
      "Speed: 0.2ms preprocess, 4.6ms inference, 0.0ms loss, 1.6ms postprocess per image\r\n",
      "Results saved to \u001b[1mruns/detect/train\u001b[0m\r\n",
      "💡 Learn more at https://docs.ultralytics.com/modes/train\r\n"
     ]
    }
   ],
   "source": [
    "%cd {HOME}\n",
    "\n",
    "!yolo task=detect mode=train model=yolov8s.pt data={dataset.location}/data.yaml epochs=75 imgsz=640 plots=True save=True batch=-1"
   ]
  },
  {
   "cell_type": "code",
   "execution_count": 7,
   "id": "93169a46",
   "metadata": {
    "execution": {
     "iopub.execute_input": "2024-05-31T12:02:11.589676Z",
     "iopub.status.busy": "2024-05-31T12:02:11.588705Z",
     "iopub.status.idle": "2024-05-31T12:02:11.593595Z",
     "shell.execute_reply": "2024-05-31T12:02:11.592740Z"
    },
    "papermill": {
     "duration": 4.078605,
     "end_time": "2024-05-31T12:02:11.595955",
     "exception": false,
     "start_time": "2024-05-31T12:02:07.517350",
     "status": "completed"
    },
    "tags": []
   },
   "outputs": [],
   "source": [
    "# %cd {HOME}\n",
    "\n",
    "# !yolo task=detect mode=train model={HOME}/runs/detect/train/weights/best.pt data={dataset.location}/data.yaml epochs=75 imgsz=640 plots=True save=True batch=-1 resume=True "
   ]
  },
  {
   "cell_type": "code",
   "execution_count": 8,
   "id": "c9704262",
   "metadata": {
    "execution": {
     "iopub.execute_input": "2024-05-31T12:02:19.888723Z",
     "iopub.status.busy": "2024-05-31T12:02:19.888367Z",
     "iopub.status.idle": "2024-05-31T12:02:19.892785Z",
     "shell.execute_reply": "2024-05-31T12:02:19.891849Z"
    },
    "papermill": {
     "duration": 4.044054,
     "end_time": "2024-05-31T12:02:19.894895",
     "exception": false,
     "start_time": "2024-05-31T12:02:15.850841",
     "status": "completed"
    },
    "tags": []
   },
   "outputs": [],
   "source": [
    "# !ls {HOME}/runs/detect/train/"
   ]
  },
  {
   "cell_type": "code",
   "execution_count": 9,
   "id": "d1fdbca4",
   "metadata": {
    "execution": {
     "iopub.execute_input": "2024-05-31T12:02:28.212118Z",
     "iopub.status.busy": "2024-05-31T12:02:28.211760Z",
     "iopub.status.idle": "2024-05-31T12:02:28.215556Z",
     "shell.execute_reply": "2024-05-31T12:02:28.214780Z"
    },
    "papermill": {
     "duration": 4.182329,
     "end_time": "2024-05-31T12:02:28.217426",
     "exception": false,
     "start_time": "2024-05-31T12:02:24.035097",
     "status": "completed"
    },
    "tags": []
   },
   "outputs": [],
   "source": [
    "# %cd {HOME}\n",
    "# Image(filename=f'{HOME}/runs/detect/train/confusion_matrix.png', width=600)"
   ]
  },
  {
   "cell_type": "code",
   "execution_count": 10,
   "id": "56292450",
   "metadata": {
    "execution": {
     "iopub.execute_input": "2024-05-31T12:02:36.570110Z",
     "iopub.status.busy": "2024-05-31T12:02:36.569751Z",
     "iopub.status.idle": "2024-05-31T12:02:36.573720Z",
     "shell.execute_reply": "2024-05-31T12:02:36.572821Z"
    },
    "papermill": {
     "duration": 4.199917,
     "end_time": "2024-05-31T12:02:36.575800",
     "exception": false,
     "start_time": "2024-05-31T12:02:32.375883",
     "status": "completed"
    },
    "tags": []
   },
   "outputs": [],
   "source": [
    "# %cd {HOME}\n",
    "# Image(filename=f'{HOME}/runs/detect/train/results.png', width=600)"
   ]
  },
  {
   "cell_type": "markdown",
   "id": "3060880f",
   "metadata": {
    "papermill": {
     "duration": 4.307459,
     "end_time": "2024-05-31T12:02:45.050503",
     "exception": false,
     "start_time": "2024-05-31T12:02:40.743044",
     "status": "completed"
    },
    "tags": []
   },
   "source": [
    "# Validate with Custom Data"
   ]
  },
  {
   "cell_type": "code",
   "execution_count": 11,
   "id": "9567dc64",
   "metadata": {
    "execution": {
     "iopub.execute_input": "2024-05-31T12:02:53.381515Z",
     "iopub.status.busy": "2024-05-31T12:02:53.381167Z",
     "iopub.status.idle": "2024-05-31T12:02:53.385132Z",
     "shell.execute_reply": "2024-05-31T12:02:53.384183Z"
    },
    "papermill": {
     "duration": 4.16585,
     "end_time": "2024-05-31T12:02:53.387055",
     "exception": false,
     "start_time": "2024-05-31T12:02:49.221205",
     "status": "completed"
    },
    "tags": []
   },
   "outputs": [],
   "source": [
    "# %cd {HOME}\n",
    "# {HOME}/runs/detect/train/weights/best.pt\n",
    "# !yolo task=detect mode=val model={HOME}/runs/detect/train/weights/best.pt data={dataset.location}/data.yaml"
   ]
  },
  {
   "cell_type": "markdown",
   "id": "e1654299",
   "metadata": {
    "papermill": {
     "duration": 4.053539,
     "end_time": "2024-05-31T12:03:01.649794",
     "exception": false,
     "start_time": "2024-05-31T12:02:57.596255",
     "status": "completed"
    },
    "tags": []
   },
   "source": [
    "# Inference with Custom Data"
   ]
  },
  {
   "cell_type": "code",
   "execution_count": 12,
   "id": "3f69c18e",
   "metadata": {
    "execution": {
     "iopub.execute_input": "2024-05-31T12:03:10.123107Z",
     "iopub.status.busy": "2024-05-31T12:03:10.122718Z",
     "iopub.status.idle": "2024-05-31T12:03:10.126789Z",
     "shell.execute_reply": "2024-05-31T12:03:10.125999Z"
    },
    "papermill": {
     "duration": 4.223557,
     "end_time": "2024-05-31T12:03:10.128877",
     "exception": false,
     "start_time": "2024-05-31T12:03:05.905320",
     "status": "completed"
    },
    "tags": []
   },
   "outputs": [],
   "source": [
    "# %cd {HOME}\n",
    "# !yolo task=detect mode=predict model={HOME}/runs/detect/train/weights/best.pt conf=0.25 source={dataset.location}/test/images save=True"
   ]
  },
  {
   "cell_type": "code",
   "execution_count": 13,
   "id": "73b86709",
   "metadata": {
    "execution": {
     "iopub.execute_input": "2024-05-31T12:03:18.701828Z",
     "iopub.status.busy": "2024-05-31T12:03:18.701474Z",
     "iopub.status.idle": "2024-05-31T12:03:18.705578Z",
     "shell.execute_reply": "2024-05-31T12:03:18.704764Z"
    },
    "papermill": {
     "duration": 4.239717,
     "end_time": "2024-05-31T12:03:18.707526",
     "exception": false,
     "start_time": "2024-05-31T12:03:14.467809",
     "status": "completed"
    },
    "tags": []
   },
   "outputs": [],
   "source": [
    "# !yolo task=detect mode=predict model={HOME}/runs/detect/train/weights/best.pt conf=0.25 source='https://github.com/Braincore-C24-MS02/ML-Development/blob/main/dataset/video/driver_face_dataset.mp4'"
   ]
  }
 ],
 "metadata": {
  "kaggle": {
   "accelerator": "nvidiaTeslaT4",
   "dataSources": [],
   "dockerImageVersionId": 30699,
   "isGpuEnabled": true,
   "isInternetEnabled": true,
   "language": "python",
   "sourceType": "notebook"
  },
  "kernelspec": {
   "display_name": "Python 3",
   "language": "python",
   "name": "python3"
  },
  "language_info": {
   "codemirror_mode": {
    "name": "ipython",
    "version": 3
   },
   "file_extension": ".py",
   "mimetype": "text/x-python",
   "name": "python",
   "nbconvert_exporter": "python",
   "pygments_lexer": "ipython3",
   "version": "3.10.13"
  },
  "papermill": {
   "default_parameters": {},
   "duration": 26695.729006,
   "end_time": "2024-05-31T12:03:24.133378",
   "environment_variables": {},
   "exception": null,
   "input_path": "__notebook__.ipynb",
   "output_path": "__notebook__.ipynb",
   "parameters": {},
   "start_time": "2024-05-31T04:38:28.404372",
   "version": "2.5.0"
  }
 },
 "nbformat": 4,
 "nbformat_minor": 5
}
