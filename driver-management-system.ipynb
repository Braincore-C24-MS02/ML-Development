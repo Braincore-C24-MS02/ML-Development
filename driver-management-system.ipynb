{
 "cells": [
  {
   "cell_type": "markdown",
   "id": "e440f399",
   "metadata": {
    "papermill": {
     "duration": 0.005438,
     "end_time": "2024-06-03T15:17:44.770387",
     "exception": false,
     "start_time": "2024-06-03T15:17:44.764949",
     "status": "completed"
    },
    "tags": []
   },
   "source": [
    "## Before you start\n",
    "\n",
    "Let's make sure that we have access to GPU. We can use `nvidia-smi` command to do that."
   ]
  },
  {
   "cell_type": "code",
   "execution_count": 1,
   "id": "3067eb34",
   "metadata": {
    "execution": {
     "iopub.execute_input": "2024-06-03T15:17:44.781873Z",
     "iopub.status.busy": "2024-06-03T15:17:44.781552Z",
     "iopub.status.idle": "2024-06-03T15:17:45.787426Z",
     "shell.execute_reply": "2024-06-03T15:17:45.786480Z"
    },
    "papermill": {
     "duration": 1.01432,
     "end_time": "2024-06-03T15:17:45.789833",
     "exception": false,
     "start_time": "2024-06-03T15:17:44.775513",
     "status": "completed"
    },
    "tags": []
   },
   "outputs": [
    {
     "name": "stdout",
     "output_type": "stream",
     "text": [
      "Mon Jun  3 15:17:45 2024       \r\n",
      "+---------------------------------------------------------------------------------------+\r\n",
      "| NVIDIA-SMI 535.129.03             Driver Version: 535.129.03   CUDA Version: 12.2     |\r\n",
      "|-----------------------------------------+----------------------+----------------------+\r\n",
      "| GPU  Name                 Persistence-M | Bus-Id        Disp.A | Volatile Uncorr. ECC |\r\n",
      "| Fan  Temp   Perf          Pwr:Usage/Cap |         Memory-Usage | GPU-Util  Compute M. |\r\n",
      "|                                         |                      |               MIG M. |\r\n",
      "|=========================================+======================+======================|\r\n",
      "|   0  Tesla P100-PCIE-16GB           Off | 00000000:00:04.0 Off |                    0 |\r\n",
      "| N/A   34C    P0              27W / 250W |      0MiB / 16384MiB |      0%      Default |\r\n",
      "|                                         |                      |                  N/A |\r\n",
      "+-----------------------------------------+----------------------+----------------------+\r\n",
      "                                                                                         \r\n",
      "+---------------------------------------------------------------------------------------+\r\n",
      "| Processes:                                                                            |\r\n",
      "|  GPU   GI   CI        PID   Type   Process name                            GPU Memory |\r\n",
      "|        ID   ID                                                             Usage      |\r\n",
      "|=======================================================================================|\r\n",
      "|  No running processes found                                                           |\r\n",
      "+---------------------------------------------------------------------------------------+\r\n"
     ]
    }
   ],
   "source": [
    "!nvidia-smi"
   ]
  },
  {
   "cell_type": "code",
   "execution_count": 2,
   "id": "f0bca8b6",
   "metadata": {
    "execution": {
     "iopub.execute_input": "2024-06-03T15:17:45.801828Z",
     "iopub.status.busy": "2024-06-03T15:17:45.801518Z",
     "iopub.status.idle": "2024-06-03T15:17:45.805392Z",
     "shell.execute_reply": "2024-06-03T15:17:45.804541Z"
    },
    "papermill": {
     "duration": 0.012259,
     "end_time": "2024-06-03T15:17:45.807354",
     "exception": false,
     "start_time": "2024-06-03T15:17:45.795095",
     "status": "completed"
    },
    "tags": []
   },
   "outputs": [],
   "source": [
    "# import os\n",
    "# HOME = os.getcwd()\n",
    "# print(HOME)"
   ]
  },
  {
   "cell_type": "markdown",
   "id": "c0263c33",
   "metadata": {
    "papermill": {
     "duration": 0.004703,
     "end_time": "2024-06-03T15:17:45.817161",
     "exception": false,
     "start_time": "2024-06-03T15:17:45.812458",
     "status": "completed"
    },
    "tags": []
   },
   "source": [
    "## Install YOLOv8"
   ]
  },
  {
   "cell_type": "code",
   "execution_count": 3,
   "id": "c2d620a3",
   "metadata": {
    "execution": {
     "iopub.execute_input": "2024-06-03T15:17:45.828629Z",
     "iopub.status.busy": "2024-06-03T15:17:45.827938Z",
     "iopub.status.idle": "2024-06-03T15:18:09.258727Z",
     "shell.execute_reply": "2024-06-03T15:18:09.257768Z"
    },
    "papermill": {
     "duration": 23.438852,
     "end_time": "2024-06-03T15:18:09.260989",
     "exception": false,
     "start_time": "2024-06-03T15:17:45.822137",
     "status": "completed"
    },
    "tags": []
   },
   "outputs": [
    {
     "name": "stderr",
     "output_type": "stream",
     "text": [
      "Ultralytics YOLOv8.0.196 🚀 Python-3.10.13 torch-2.1.2 CUDA:0 (Tesla P100-PCIE-16GB, 16276MiB)\n",
      "Setup complete ✅ (4 CPUs, 31.4 GB RAM, 5643.4/8062.4 GB disk)\n"
     ]
    }
   ],
   "source": [
    "# Pip install method (recommended)\n",
    "\n",
    "!pip install ultralytics==8.0.196\n",
    "\n",
    "import ultralytics\n",
    "ultralytics.checks()"
   ]
  },
  {
   "cell_type": "code",
   "execution_count": 4,
   "id": "cf9e6521",
   "metadata": {
    "execution": {
     "iopub.execute_input": "2024-06-03T15:18:09.273714Z",
     "iopub.status.busy": "2024-06-03T15:18:09.272709Z",
     "iopub.status.idle": "2024-06-03T15:18:09.278755Z",
     "shell.execute_reply": "2024-06-03T15:18:09.277916Z"
    },
    "papermill": {
     "duration": 0.014327,
     "end_time": "2024-06-03T15:18:09.280717",
     "exception": false,
     "start_time": "2024-06-03T15:18:09.266390",
     "status": "completed"
    },
    "tags": []
   },
   "outputs": [],
   "source": [
    "from IPython import display\n",
    "display.clear_output()\n",
    "\n",
    "from IPython.display import Image\n",
    "from ultralytics import YOLO"
   ]
  },
  {
   "cell_type": "markdown",
   "id": "ea2d7969",
   "metadata": {
    "papermill": {
     "duration": 0.004885,
     "end_time": "2024-06-03T15:18:09.290776",
     "exception": false,
     "start_time": "2024-06-03T15:18:09.285891",
     "status": "completed"
    },
    "tags": []
   },
   "source": [
    "## Preparing a custom dataset"
   ]
  },
  {
   "cell_type": "code",
   "execution_count": 5,
   "id": "13250367",
   "metadata": {
    "execution": {
     "iopub.execute_input": "2024-06-03T15:18:09.302191Z",
     "iopub.status.busy": "2024-06-03T15:18:09.301897Z",
     "iopub.status.idle": "2024-06-03T15:19:17.834891Z",
     "shell.execute_reply": "2024-06-03T15:19:17.833852Z"
    },
    "papermill": {
     "duration": 68.54142,
     "end_time": "2024-06-03T15:19:17.837275",
     "exception": false,
     "start_time": "2024-06-03T15:18:09.295855",
     "status": "completed"
    },
    "tags": []
   },
   "outputs": [
    {
     "name": "stdout",
     "output_type": "stream",
     "text": [
      "\u001b[33mWARNING: The candidate selected for download or install is a yanked version: 'opencv-python-headless' candidate (version 4.8.0.74 at https://files.pythonhosted.org/packages/76/02/f128517f3ade4bb5f71e2afd8461dba70e3f466ce745fa1fd1fade9ad1b7/opencv_python_headless-4.8.0.74-cp37-abi3-manylinux_2_17_x86_64.manylinux2014_x86_64.whl (from https://pypi.org/simple/opencv-python-headless/) (requires-python:>=3.6))\r\n",
      "Reason for being yanked: deprecated, use 4.8.0.76\u001b[0m\u001b[33m\r\n",
      "\u001b[0m\u001b[31mERROR: pip's dependency resolver does not currently take into account all the packages that are installed. This behaviour is the source of the following dependency conflicts.\r\n",
      "tensorflow-decision-forests 1.8.1 requires wurlitzer, which is not installed.\r\n",
      "jupyterlab 4.1.6 requires jupyter-lsp>=2.0.0, but you have jupyter-lsp 1.5.1 which is incompatible.\r\n",
      "jupyterlab-lsp 5.1.0 requires jupyter-lsp>=2.0.0, but you have jupyter-lsp 1.5.1 which is incompatible.\r\n",
      "libpysal 4.9.2 requires packaging>=22, but you have packaging 21.3 which is incompatible.\r\n",
      "libpysal 4.9.2 requires shapely>=2.0.1, but you have shapely 1.8.5.post1 which is incompatible.\r\n",
      "momepy 0.7.0 requires shapely>=2, but you have shapely 1.8.5.post1 which is incompatible.\r\n",
      "osmnx 1.9.2 requires shapely>=2.0, but you have shapely 1.8.5.post1 which is incompatible.\r\n",
      "spopt 0.6.0 requires shapely>=2.0.1, but you have shapely 1.8.5.post1 which is incompatible.\r\n",
      "tensorflow 2.15.0 requires keras<2.16,>=2.15.0, but you have keras 3.2.1 which is incompatible.\r\n",
      "ydata-profiling 4.6.4 requires numpy<1.26,>=1.16.0, but you have numpy 1.26.4 which is incompatible.\u001b[0m\u001b[31m\r\n",
      "loading Roboflow workspace...\n",
      "loading Roboflow project...\n"
     ]
    },
    {
     "name": "stderr",
     "output_type": "stream",
     "text": [
      "Downloading Dataset Version Zip in driving-monitoring-system-2 to yolov8:: 100%|██████████| 929067/929067 [00:40<00:00, 22773.99it/s]"
     ]
    },
    {
     "name": "stdout",
     "output_type": "stream",
     "text": [
      "\n"
     ]
    },
    {
     "name": "stderr",
     "output_type": "stream",
     "text": [
      "\n",
      "Extracting Dataset Version Zip to driving-monitoring-system-2 in yolov8:: 100%|██████████| 49836/49836 [00:06<00:00, 8168.36it/s]\n"
     ]
    }
   ],
   "source": [
    "# !mkdir {HOME}/datasets\n",
    "# %cd {HOME}/datasets\n",
    "\n",
    "!pip install roboflow --quiet\n",
    "\n",
    "from roboflow import Roboflow\n",
    "rf = Roboflow(api_key=\"AgRivcdffivrgaoMEErV\")\n",
    "project = rf.workspace(\"driver-wlf6m\").project(\"driving-monitoring-system\")\n",
    "version = project.version(2)\n",
    "dataset = version.download(\"yolov8\")"
   ]
  },
  {
   "cell_type": "markdown",
   "id": "432ebbe8",
   "metadata": {
    "papermill": {
     "duration": 0.035091,
     "end_time": "2024-06-03T15:19:17.908734",
     "exception": false,
     "start_time": "2024-06-03T15:19:17.873643",
     "status": "completed"
    },
    "tags": []
   },
   "source": [
    "## Custom training\n",
    "\n",
    "Don't forget to add `resume` parameter so that you can continue your training"
   ]
  },
  {
   "cell_type": "code",
   "execution_count": 6,
   "id": "96e4bf79",
   "metadata": {
    "execution": {
     "iopub.execute_input": "2024-06-03T15:19:17.980603Z",
     "iopub.status.busy": "2024-06-03T15:19:17.980203Z",
     "iopub.status.idle": "2024-06-04T02:25:09.416280Z",
     "shell.execute_reply": "2024-06-04T02:25:09.415228Z"
    },
    "papermill": {
     "duration": 39951.474891,
     "end_time": "2024-06-04T02:25:09.418634",
     "exception": false,
     "start_time": "2024-06-03T15:19:17.943743",
     "status": "completed"
    },
    "tags": []
   },
   "outputs": [
    {
     "name": "stdout",
     "output_type": "stream",
     "text": [
      "Downloading https://github.com/ultralytics/assets/releases/download/v0.0.0/yolov8s.pt to 'yolov8s.pt'...\r\n",
      "100%|██████████████████████████████████████| 21.5M/21.5M [00:00<00:00, 52.4MB/s]\r\n",
      "New https://pypi.org/project/ultralytics/8.2.28 available 😃 Update with 'pip install -U ultralytics'\r\n",
      "Ultralytics YOLOv8.0.196 🚀 Python-3.10.13 torch-2.1.2 CUDA:0 (Tesla P100-PCIE-16GB, 16276MiB)\r\n",
      "\u001b[34m\u001b[1mengine/trainer: \u001b[0mtask=detect, mode=train, model=yolov8s.pt, data=/kaggle/working/driving-monitoring-system-2/data.yaml, epochs=100, patience=50, batch=-1, imgsz=640, save=True, save_period=-1, cache=False, device=None, workers=8, project=None, name=None, exist_ok=False, pretrained=True, optimizer=auto, verbose=True, seed=0, deterministic=True, single_cls=False, rect=False, cos_lr=False, close_mosaic=10, resume=False, amp=True, fraction=1.0, profile=False, freeze=None, overlap_mask=True, mask_ratio=4, dropout=0.0, val=True, split=val, save_json=False, save_hybrid=False, conf=None, iou=0.7, max_det=300, half=False, dnn=False, plots=True, source=None, show=False, save_txt=False, save_conf=False, save_crop=False, show_labels=True, show_conf=True, vid_stride=1, stream_buffer=False, line_width=None, visualize=False, augment=False, agnostic_nms=False, classes=None, retina_masks=False, boxes=True, format=torchscript, keras=False, optimize=False, int8=False, dynamic=False, simplify=False, opset=None, workspace=4, nms=False, lr0=0.01, lrf=0.01, momentum=0.937, weight_decay=0.0005, warmup_epochs=3.0, warmup_momentum=0.8, warmup_bias_lr=0.1, box=7.5, cls=0.5, dfl=1.5, pose=12.0, kobj=1.0, label_smoothing=0.0, nbs=64, hsv_h=0.015, hsv_s=0.7, hsv_v=0.4, degrees=0.0, translate=0.1, scale=0.5, shear=0.0, perspective=0.0, flipud=0.0, fliplr=0.5, mosaic=1.0, mixup=0.0, copy_paste=0.0, cfg=None, tracker=botsort.yaml, save_dir=runs/detect/train\r\n",
      "Downloading https://ultralytics.com/assets/Arial.ttf to '/root/.config/Ultralytics/Arial.ttf'...\r\n",
      "100%|████████████████████████████████████████| 755k/755k [00:00<00:00, 4.01MB/s]\r\n",
      "2024-06-03 15:19:37.308587: E external/local_xla/xla/stream_executor/cuda/cuda_dnn.cc:9261] Unable to register cuDNN factory: Attempting to register factory for plugin cuDNN when one has already been registered\r\n",
      "2024-06-03 15:19:37.308707: E external/local_xla/xla/stream_executor/cuda/cuda_fft.cc:607] Unable to register cuFFT factory: Attempting to register factory for plugin cuFFT when one has already been registered\r\n",
      "2024-06-03 15:19:37.433848: E external/local_xla/xla/stream_executor/cuda/cuda_blas.cc:1515] Unable to register cuBLAS factory: Attempting to register factory for plugin cuBLAS when one has already been registered\r\n",
      "Overriding model.yaml nc=80 with nc=5\r\n",
      "\r\n",
      "                   from  n    params  module                                       arguments                     \r\n",
      "  0                  -1  1       928  ultralytics.nn.modules.conv.Conv             [3, 32, 3, 2]                 \r\n",
      "  1                  -1  1     18560  ultralytics.nn.modules.conv.Conv             [32, 64, 3, 2]                \r\n",
      "  2                  -1  1     29056  ultralytics.nn.modules.block.C2f             [64, 64, 1, True]             \r\n",
      "  3                  -1  1     73984  ultralytics.nn.modules.conv.Conv             [64, 128, 3, 2]               \r\n",
      "  4                  -1  2    197632  ultralytics.nn.modules.block.C2f             [128, 128, 2, True]           \r\n",
      "  5                  -1  1    295424  ultralytics.nn.modules.conv.Conv             [128, 256, 3, 2]              \r\n",
      "  6                  -1  2    788480  ultralytics.nn.modules.block.C2f             [256, 256, 2, True]           \r\n",
      "  7                  -1  1   1180672  ultralytics.nn.modules.conv.Conv             [256, 512, 3, 2]              \r\n",
      "  8                  -1  1   1838080  ultralytics.nn.modules.block.C2f             [512, 512, 1, True]           \r\n",
      "  9                  -1  1    656896  ultralytics.nn.modules.block.SPPF            [512, 512, 5]                 \r\n",
      " 10                  -1  1         0  torch.nn.modules.upsampling.Upsample         [None, 2, 'nearest']          \r\n",
      " 11             [-1, 6]  1         0  ultralytics.nn.modules.conv.Concat           [1]                           \r\n",
      " 12                  -1  1    591360  ultralytics.nn.modules.block.C2f             [768, 256, 1]                 \r\n",
      " 13                  -1  1         0  torch.nn.modules.upsampling.Upsample         [None, 2, 'nearest']          \r\n",
      " 14             [-1, 4]  1         0  ultralytics.nn.modules.conv.Concat           [1]                           \r\n",
      " 15                  -1  1    148224  ultralytics.nn.modules.block.C2f             [384, 128, 1]                 \r\n",
      " 16                  -1  1    147712  ultralytics.nn.modules.conv.Conv             [128, 128, 3, 2]              \r\n",
      " 17            [-1, 12]  1         0  ultralytics.nn.modules.conv.Concat           [1]                           \r\n",
      " 18                  -1  1    493056  ultralytics.nn.modules.block.C2f             [384, 256, 1]                 \r\n",
      " 19                  -1  1    590336  ultralytics.nn.modules.conv.Conv             [256, 256, 3, 2]              \r\n",
      " 20             [-1, 9]  1         0  ultralytics.nn.modules.conv.Concat           [1]                           \r\n",
      " 21                  -1  1   1969152  ultralytics.nn.modules.block.C2f             [768, 512, 1]                 \r\n",
      " 22        [15, 18, 21]  1   2117983  ultralytics.nn.modules.head.Detect           [5, [128, 256, 512]]          \r\n",
      "Model summary: 225 layers, 11137535 parameters, 11137519 gradients, 28.7 GFLOPs\r\n",
      "\r\n",
      "Transferred 349/355 items from pretrained weights\r\n",
      "\u001b[34m\u001b[1mTensorBoard: \u001b[0mStart with 'tensorboard --logdir runs/detect/train', view at http://localhost:6006/\r\n",
      "Freezing layer 'model.22.dfl.conv.weight'\r\n",
      "\u001b[34m\u001b[1mAMP: \u001b[0mrunning Automatic Mixed Precision (AMP) checks with YOLOv8n...\r\n",
      "Downloading https://github.com/ultralytics/assets/releases/download/v0.0.0/yolov8n.pt to 'yolov8n.pt'...\r\n",
      "100%|██████████████████████████████████████| 6.23M/6.23M [00:00<00:00, 22.6MB/s]\r\n",
      "\u001b[34m\u001b[1mAMP: \u001b[0mchecks passed ✅\r\n",
      "\u001b[34m\u001b[1mAutoBatch: \u001b[0mComputing optimal batch size for imgsz=640\r\n",
      "\u001b[34m\u001b[1mAutoBatch: \u001b[0mCUDA:0 (Tesla P100-PCIE-16GB) 15.89G total, 0.12G reserved, 0.11G allocated, 15.66G free\r\n",
      "      Params      GFLOPs  GPU_mem (GB)  forward (ms) backward (ms)                   input                  output\r\n",
      "    11137535       28.66         0.359          28.9         63.56        (1, 3, 640, 640)                    list\r\n",
      "    11137535       57.31         0.583          19.8         42.63        (2, 3, 640, 640)                    list\r\n",
      "    11137535       114.6         1.179         23.41         102.8        (4, 3, 640, 640)                    list\r\n",
      "    11137535       229.2         2.068         42.35         66.46        (8, 3, 640, 640)                    list\r\n",
      "    11137535       458.5         3.926         74.23         108.3       (16, 3, 640, 640)                    list\r\n",
      "\u001b[34m\u001b[1mAutoBatch: \u001b[0mUsing batch-size 38 for CUDA:0 9.40G/15.89G (59%) ✅\r\n",
      "\u001b[34m\u001b[1mtrain: \u001b[0mScanning /kaggle/working/driving-monitoring-system-2/train/labels... 2299\u001b[0m\r\n",
      "\u001b[34m\u001b[1mtrain: \u001b[0mWARNING ⚠️ /kaggle/working/driving-monitoring-system-2/train/images/EzsbUnTX0AE8OQB_jpg.rf.15fe273a56c5e74187b9aacdbe6989f4.jpg: 1 duplicate labels removed\r\n",
      "\u001b[34m\u001b[1mtrain: \u001b[0mWARNING ⚠️ /kaggle/working/driving-monitoring-system-2/train/images/EzsbUnTX0AE8OQB_jpg.rf.35f6308ed9f5c67e514bd0619dbd3216.jpg: 1 duplicate labels removed\r\n",
      "\u001b[34m\u001b[1mtrain: \u001b[0mWARNING ⚠️ /kaggle/working/driving-monitoring-system-2/train/images/EzsbUnTX0AE8OQB_jpg.rf.4119ac27ef2555d8eaa6bc52c8c3aaeb.jpg: 1 duplicate labels removed\r\n",
      "\u001b[34m\u001b[1mtrain: \u001b[0mNew cache created: /kaggle/working/driving-monitoring-system-2/train/labels.cache\r\n",
      "WARNING ⚠️ Box and segment counts should be equal, but got len(segments) = 3985, len(boxes) = 33224. To resolve this only boxes will be used and all segments will be removed. To avoid this please supply either a detect or segment dataset, not a detect-segment mixed dataset.\r\n",
      "\u001b[34m\u001b[1malbumentations: \u001b[0mBlur(p=0.01, blur_limit=(3, 7)), MedianBlur(p=0.01, blur_limit=(3, 7)), ToGray(p=0.01), CLAHE(p=0.01, clip_limit=(1, 4.0), tile_grid_size=(8, 8))\r\n",
      "\u001b[34m\u001b[1mval: \u001b[0mScanning /kaggle/working/driving-monitoring-system-2/valid/labels... 1392 i\u001b[0m\r\n",
      "\u001b[34m\u001b[1mval: \u001b[0mNew cache created: /kaggle/working/driving-monitoring-system-2/valid/labels.cache\r\n",
      "WARNING ⚠️ Box and segment counts should be equal, but got len(segments) = 372, len(boxes) = 2014. To resolve this only boxes will be used and all segments will be removed. To avoid this please supply either a detect or segment dataset, not a detect-segment mixed dataset.\r\n",
      "Plotting labels to runs/detect/train/labels.jpg... \r\n",
      "\u001b[34m\u001b[1moptimizer:\u001b[0m 'optimizer=auto' found, ignoring 'lr0=0.01' and 'momentum=0.937' and determining best 'optimizer', 'lr0' and 'momentum' automatically... \r\n",
      "\u001b[34m\u001b[1moptimizer:\u001b[0m SGD(lr=0.01, momentum=0.9) with parameter groups 57 weight(decay=0.0), 64 weight(decay=0.00059375), 63 bias(decay=0.0)\r\n",
      "Image sizes 640 train, 640 val\r\n",
      "Using 4 dataloader workers\r\n",
      "Logging results to \u001b[1mruns/detect/train\u001b[0m\r\n",
      "Starting training for 100 epochs...\r\n",
      "\r\n",
      "      Epoch    GPU_mem   box_loss   cls_loss   dfl_loss  Instances       Size\r\n",
      "      1/100        10G      1.439      1.788      1.674          7        640: 1\r\n",
      "                 Class     Images  Instances      Box(P          R      mAP50  m\r\n",
      "                   all       1392       2014      0.658      0.616      0.632      0.349\r\n",
      "\r\n",
      "      Epoch    GPU_mem   box_loss   cls_loss   dfl_loss  Instances       Size\r\n",
      "      2/100      10.1G      1.302      1.205      1.542         16        640: 1\r\n",
      "                 Class     Images  Instances      Box(P          R      mAP50  m\r\n",
      "                   all       1392       2014      0.511        0.4      0.406      0.209\r\n",
      "\r\n",
      "      Epoch    GPU_mem   box_loss   cls_loss   dfl_loss  Instances       Size\r\n",
      "      3/100      10.1G      1.333      1.272      1.579          8        640: 1\r\n",
      "                 Class     Images  Instances      Box(P          R      mAP50  m\r\n",
      "                   all       1392       2014      0.543      0.349      0.338      0.173\r\n",
      "\r\n",
      "      Epoch    GPU_mem   box_loss   cls_loss   dfl_loss  Instances       Size\r\n",
      "      4/100      10.1G      1.359      1.328      1.607         11        640: 1\r\n",
      "                 Class     Images  Instances      Box(P          R      mAP50  m\r\n",
      "                   all       1392       2014      0.643      0.568      0.581      0.335\r\n",
      "\r\n",
      "      Epoch    GPU_mem   box_loss   cls_loss   dfl_loss  Instances       Size\r\n",
      "      5/100      10.1G      1.312      1.239      1.569         13        640: 1\r\n",
      "                 Class     Images  Instances      Box(P          R      mAP50  m\r\n",
      "                   all       1392       2014      0.712      0.607      0.629      0.369\r\n",
      "\r\n",
      "      Epoch    GPU_mem   box_loss   cls_loss   dfl_loss  Instances       Size\r\n",
      "      6/100      10.1G      1.273      1.153      1.532         24        640: 1\r\n",
      "                 Class     Images  Instances      Box(P          R      mAP50  m\r\n",
      "                   all       1392       2014       0.74      0.627      0.669      0.405\r\n",
      "\r\n",
      "      Epoch    GPU_mem   box_loss   cls_loss   dfl_loss  Instances       Size\r\n",
      "      7/100      9.81G      1.236      1.099      1.503         16        640: 1\r\n",
      "                 Class     Images  Instances      Box(P          R      mAP50  m\r\n",
      "                   all       1392       2014      0.662      0.672      0.681      0.427\r\n",
      "\r\n",
      "      Epoch    GPU_mem   box_loss   cls_loss   dfl_loss  Instances       Size\r\n",
      "      8/100       9.7G      1.205      1.051      1.474         15        640: 1\r\n",
      "                 Class     Images  Instances      Box(P          R      mAP50  m\r\n",
      "                   all       1392       2014      0.755      0.684        0.7      0.439\r\n",
      "\r\n",
      "      Epoch    GPU_mem   box_loss   cls_loss   dfl_loss  Instances       Size\r\n",
      "      9/100      10.1G      1.186      1.008      1.459         12        640: 1\r\n",
      "                 Class     Images  Instances      Box(P          R      mAP50  m\r\n",
      "                   all       1392       2014      0.789      0.692      0.749      0.463\r\n",
      "\r\n",
      "      Epoch    GPU_mem   box_loss   cls_loss   dfl_loss  Instances       Size\r\n",
      "     10/100      10.1G      1.176     0.9926      1.451          9        640: 1\r\n",
      "                 Class     Images  Instances      Box(P          R      mAP50  m\r\n",
      "                   all       1392       2014      0.788       0.71      0.757      0.489\r\n",
      "\r\n",
      "      Epoch    GPU_mem   box_loss   cls_loss   dfl_loss  Instances       Size\r\n",
      "     11/100      10.1G      1.144     0.9563      1.428         12        640: 1\r\n",
      "                 Class     Images  Instances      Box(P          R      mAP50  m\r\n",
      "                   all       1392       2014      0.786      0.715      0.745      0.477\r\n",
      "\r\n",
      "      Epoch    GPU_mem   box_loss   cls_loss   dfl_loss  Instances       Size\r\n",
      "     12/100      10.1G      1.135     0.9333      1.421         15        640: 1\r\n",
      "                 Class     Images  Instances      Box(P          R      mAP50  m\r\n",
      "                   all       1392       2014      0.786      0.725      0.774      0.496\r\n",
      "\r\n",
      "      Epoch    GPU_mem   box_loss   cls_loss   dfl_loss  Instances       Size\r\n",
      "     13/100      10.1G      1.121     0.9173      1.406         13        640: 1\r\n",
      "                 Class     Images  Instances      Box(P          R      mAP50  m\r\n",
      "                   all       1392       2014      0.803      0.747       0.79      0.508\r\n",
      "\r\n",
      "      Epoch    GPU_mem   box_loss   cls_loss   dfl_loss  Instances       Size\r\n",
      "     14/100      10.1G      1.121     0.9089      1.404         19        640: 1\r\n",
      "                 Class     Images  Instances      Box(P          R      mAP50  m\r\n",
      "                   all       1392       2014      0.812      0.735       0.78       0.51\r\n",
      "\r\n",
      "      Epoch    GPU_mem   box_loss   cls_loss   dfl_loss  Instances       Size\r\n",
      "     15/100      10.1G      1.104     0.8906      1.391         12        640: 1\r\n",
      "                 Class     Images  Instances      Box(P          R      mAP50  m\r\n",
      "                   all       1392       2014      0.795       0.76      0.809      0.527\r\n",
      "\r\n",
      "      Epoch    GPU_mem   box_loss   cls_loss   dfl_loss  Instances       Size\r\n",
      "     16/100      10.1G      1.094     0.8755      1.386         13        640: 1\r\n",
      "                 Class     Images  Instances      Box(P          R      mAP50  m\r\n",
      "                   all       1392       2014      0.819      0.771      0.811       0.54\r\n",
      "\r\n",
      "      Epoch    GPU_mem   box_loss   cls_loss   dfl_loss  Instances       Size\r\n",
      "     17/100      10.1G      1.075      0.854      1.371         15        640: 1\r\n",
      "                 Class     Images  Instances      Box(P          R      mAP50  m\r\n",
      "                   all       1392       2014      0.814      0.764      0.804      0.546\r\n",
      "\r\n",
      "      Epoch    GPU_mem   box_loss   cls_loss   dfl_loss  Instances       Size\r\n",
      "     18/100      10.1G      1.072     0.8506      1.367         15        640: 1\r\n",
      "                 Class     Images  Instances      Box(P          R      mAP50  m\r\n",
      "                   all       1392       2014      0.811       0.78      0.814      0.554\r\n",
      "\r\n",
      "      Epoch    GPU_mem   box_loss   cls_loss   dfl_loss  Instances       Size\r\n",
      "     19/100      10.1G      1.071     0.8444      1.366         12        640: 1\r\n",
      "                 Class     Images  Instances      Box(P          R      mAP50  m\r\n",
      "                   all       1392       2014      0.851      0.775       0.83      0.558\r\n",
      "\r\n",
      "      Epoch    GPU_mem   box_loss   cls_loss   dfl_loss  Instances       Size\r\n",
      "     20/100      10.1G      1.053     0.8195      1.354         19        640: 1\r\n",
      "                 Class     Images  Instances      Box(P          R      mAP50  m\r\n",
      "                   all       1392       2014      0.818      0.797      0.833      0.561\r\n",
      "\r\n",
      "      Epoch    GPU_mem   box_loss   cls_loss   dfl_loss  Instances       Size\r\n",
      "     21/100      10.1G      1.054     0.8215      1.353          9        640: 1\r\n",
      "                 Class     Images  Instances      Box(P          R      mAP50  m\r\n",
      "                   all       1392       2014       0.82      0.798      0.837      0.568\r\n",
      "\r\n",
      "      Epoch    GPU_mem   box_loss   cls_loss   dfl_loss  Instances       Size\r\n",
      "     22/100      10.1G      1.051     0.8164      1.346         14        640: 1\r\n",
      "                 Class     Images  Instances      Box(P          R      mAP50  m\r\n",
      "                   all       1392       2014      0.861      0.791      0.846      0.576\r\n",
      "\r\n",
      "      Epoch    GPU_mem   box_loss   cls_loss   dfl_loss  Instances       Size\r\n",
      "     23/100      10.1G      1.044     0.8008      1.344         11        640: 1\r\n",
      "                 Class     Images  Instances      Box(P          R      mAP50  m\r\n",
      "                   all       1392       2014      0.855        0.8      0.856      0.595\r\n",
      "\r\n",
      "      Epoch    GPU_mem   box_loss   cls_loss   dfl_loss  Instances       Size\r\n",
      "     24/100      10.1G      1.034     0.7916      1.337         14        640: 1\r\n",
      "                 Class     Images  Instances      Box(P          R      mAP50  m\r\n",
      "                   all       1392       2014      0.836       0.81       0.85      0.586\r\n",
      "\r\n",
      "      Epoch    GPU_mem   box_loss   cls_loss   dfl_loss  Instances       Size\r\n",
      "     25/100        11G      1.022     0.7746      1.329         33        640: 1\r\n",
      "                 Class     Images  Instances      Box(P          R      mAP50  m\r\n",
      "                   all       1392       2014      0.809      0.827      0.857      0.588\r\n",
      "\r\n",
      "      Epoch    GPU_mem   box_loss   cls_loss   dfl_loss  Instances       Size\r\n",
      "     26/100      10.1G      1.021     0.7776      1.329         14        640: 1\r\n",
      "                 Class     Images  Instances      Box(P          R      mAP50  m\r\n",
      "                   all       1392       2014      0.843      0.819       0.86      0.607\r\n",
      "\r\n",
      "      Epoch    GPU_mem   box_loss   cls_loss   dfl_loss  Instances       Size\r\n",
      "     27/100      10.1G      1.015     0.7681      1.323         11        640: 1\r\n",
      "                 Class     Images  Instances      Box(P          R      mAP50  m\r\n",
      "                   all       1392       2014      0.872      0.823      0.865      0.598\r\n",
      "\r\n",
      "      Epoch    GPU_mem   box_loss   cls_loss   dfl_loss  Instances       Size\r\n",
      "     28/100      10.1G      1.007      0.755      1.318         22        640: 1\r\n",
      "                 Class     Images  Instances      Box(P          R      mAP50  m\r\n",
      "                   all       1392       2014      0.872       0.82      0.872      0.603\r\n",
      "\r\n",
      "      Epoch    GPU_mem   box_loss   cls_loss   dfl_loss  Instances       Size\r\n",
      "     29/100      10.1G      1.004     0.7531      1.314         17        640: 1\r\n",
      "                 Class     Images  Instances      Box(P          R      mAP50  m\r\n",
      "                   all       1392       2014      0.857      0.832       0.87      0.599\r\n",
      "\r\n",
      "      Epoch    GPU_mem   box_loss   cls_loss   dfl_loss  Instances       Size\r\n",
      "     30/100      10.1G      1.004     0.7418      1.311          9        640: 1\r\n",
      "                 Class     Images  Instances      Box(P          R      mAP50  m\r\n",
      "                   all       1392       2014      0.852      0.825      0.867      0.607\r\n",
      "\r\n",
      "      Epoch    GPU_mem   box_loss   cls_loss   dfl_loss  Instances       Size\r\n",
      "     31/100      10.1G     0.9875     0.7327      1.303         11        640: 1\r\n",
      "                 Class     Images  Instances      Box(P          R      mAP50  m\r\n",
      "                   all       1392       2014      0.867      0.813       0.87      0.609\r\n",
      "\r\n",
      "      Epoch    GPU_mem   box_loss   cls_loss   dfl_loss  Instances       Size\r\n",
      "     32/100      10.1G     0.9909     0.7369      1.305         18        640: 1\r\n",
      "                 Class     Images  Instances      Box(P          R      mAP50  m\r\n",
      "                   all       1392       2014      0.857      0.827      0.875      0.613\r\n",
      "\r\n",
      "      Epoch    GPU_mem   box_loss   cls_loss   dfl_loss  Instances       Size\r\n",
      "     33/100      10.1G     0.9831     0.7231      1.298         17        640: 1\r\n",
      "                 Class     Images  Instances      Box(P          R      mAP50  m\r\n",
      "                   all       1392       2014      0.865      0.826      0.873      0.614\r\n",
      "\r\n",
      "      Epoch    GPU_mem   box_loss   cls_loss   dfl_loss  Instances       Size\r\n",
      "     34/100      10.1G     0.9833     0.7286        1.3         13        640: 1\r\n",
      "                 Class     Images  Instances      Box(P          R      mAP50  m\r\n",
      "                   all       1392       2014      0.845      0.829      0.865      0.613\r\n",
      "\r\n",
      "      Epoch    GPU_mem   box_loss   cls_loss   dfl_loss  Instances       Size\r\n",
      "     35/100      10.1G     0.9823     0.7195      1.294         15        640: 1\r\n",
      "                 Class     Images  Instances      Box(P          R      mAP50  m\r\n",
      "                   all       1392       2014      0.858      0.827      0.872      0.619\r\n",
      "\r\n",
      "      Epoch    GPU_mem   box_loss   cls_loss   dfl_loss  Instances       Size\r\n",
      "     36/100      10.1G     0.9705      0.713      1.292         20        640: 1\r\n",
      "                 Class     Images  Instances      Box(P          R      mAP50  m\r\n",
      "                   all       1392       2014      0.846       0.83      0.871      0.618\r\n",
      "\r\n",
      "      Epoch    GPU_mem   box_loss   cls_loss   dfl_loss  Instances       Size\r\n",
      "     37/100      10.1G     0.9706     0.7112      1.289         15        640: 1\r\n",
      "                 Class     Images  Instances      Box(P          R      mAP50  m\r\n",
      "                   all       1392       2014      0.841      0.841      0.878      0.629\r\n",
      "\r\n",
      "      Epoch    GPU_mem   box_loss   cls_loss   dfl_loss  Instances       Size\r\n",
      "     38/100      10.1G     0.9579     0.7007      1.285         22        640: 1\r\n",
      "                 Class     Images  Instances      Box(P          R      mAP50  m\r\n",
      "                   all       1392       2014      0.844      0.848      0.884      0.629\r\n",
      "\r\n",
      "      Epoch    GPU_mem   box_loss   cls_loss   dfl_loss  Instances       Size\r\n",
      "     39/100      11.1G     0.9562     0.7013      1.282         15        640: 1\r\n",
      "                 Class     Images  Instances      Box(P          R      mAP50  m\r\n",
      "                   all       1392       2014      0.874      0.841      0.886      0.629\r\n",
      "\r\n",
      "      Epoch    GPU_mem   box_loss   cls_loss   dfl_loss  Instances       Size\r\n",
      "     40/100      10.1G     0.9528      0.698       1.28         14        640: 1\r\n",
      "                 Class     Images  Instances      Box(P          R      mAP50  m\r\n",
      "                   all       1392       2014      0.866      0.846      0.885      0.627\r\n",
      "\r\n",
      "      Epoch    GPU_mem   box_loss   cls_loss   dfl_loss  Instances       Size\r\n",
      "     41/100      10.1G     0.9529     0.6923      1.276         54        640: 1\r\n",
      "                 Class     Images  Instances      Box(P          R      mAP50  m\r\n",
      "                   all       1392       2014      0.864      0.842      0.883      0.629\r\n",
      "\r\n",
      "      Epoch    GPU_mem   box_loss   cls_loss   dfl_loss  Instances       Size\r\n",
      "     42/100      10.1G     0.9442     0.6836      1.274         15        640: 1\r\n",
      "                 Class     Images  Instances      Box(P          R      mAP50  m\r\n",
      "                   all       1392       2014      0.857      0.837       0.88      0.631\r\n",
      "\r\n",
      "      Epoch    GPU_mem   box_loss   cls_loss   dfl_loss  Instances       Size\r\n",
      "     43/100      10.1G     0.9405     0.6833      1.268         22        640: 1\r\n",
      "                 Class     Images  Instances      Box(P          R      mAP50  m\r\n",
      "                   all       1392       2014       0.87      0.837      0.883      0.634\r\n",
      "\r\n",
      "      Epoch    GPU_mem   box_loss   cls_loss   dfl_loss  Instances       Size\r\n",
      "     44/100        10G     0.9376     0.6742      1.264         13        640: 1\r\n",
      "                 Class     Images  Instances      Box(P          R      mAP50  m\r\n",
      "                   all       1392       2014      0.853      0.847      0.883      0.637\r\n",
      "\r\n",
      "      Epoch    GPU_mem   box_loss   cls_loss   dfl_loss  Instances       Size\r\n",
      "     45/100      10.1G     0.9396     0.6731      1.266         13        640: 1\r\n",
      "                 Class     Images  Instances      Box(P          R      mAP50  m\r\n",
      "                   all       1392       2014      0.852      0.845      0.885       0.64\r\n",
      "\r\n",
      "      Epoch    GPU_mem   box_loss   cls_loss   dfl_loss  Instances       Size\r\n",
      "     46/100      10.1G     0.9304      0.662       1.26         12        640: 1\r\n",
      "                 Class     Images  Instances      Box(P          R      mAP50  m\r\n",
      "                   all       1392       2014      0.854      0.849      0.886      0.642\r\n",
      "\r\n",
      "      Epoch    GPU_mem   box_loss   cls_loss   dfl_loss  Instances       Size\r\n",
      "     47/100      10.1G     0.9223     0.6543      1.255         14        640: 1\r\n",
      "                 Class     Images  Instances      Box(P          R      mAP50  m\r\n",
      "                   all       1392       2014      0.847      0.854      0.886      0.644\r\n",
      "\r\n",
      "      Epoch    GPU_mem   box_loss   cls_loss   dfl_loss  Instances       Size\r\n",
      "     48/100      9.86G     0.9249     0.6579      1.256         16        640: 1\r\n",
      "                 Class     Images  Instances      Box(P          R      mAP50  m\r\n",
      "                   all       1392       2014       0.85      0.852      0.888      0.645\r\n",
      "\r\n",
      "      Epoch    GPU_mem   box_loss   cls_loss   dfl_loss  Instances       Size\r\n",
      "     49/100      10.1G     0.9187     0.6492      1.253         14        640: 1\r\n",
      "                 Class     Images  Instances      Box(P          R      mAP50  m\r\n",
      "                   all       1392       2014      0.849      0.846      0.888      0.644\r\n",
      "\r\n",
      "      Epoch    GPU_mem   box_loss   cls_loss   dfl_loss  Instances       Size\r\n",
      "     50/100      10.1G     0.9104     0.6485      1.248         16        640: 1\r\n",
      "                 Class     Images  Instances      Box(P          R      mAP50  m\r\n",
      "                   all       1392       2014      0.845      0.845      0.886      0.644\r\n",
      "\r\n",
      "      Epoch    GPU_mem   box_loss   cls_loss   dfl_loss  Instances       Size\r\n",
      "     51/100      10.1G     0.9137     0.6443       1.25         16        640: 1\r\n",
      "                 Class     Images  Instances      Box(P          R      mAP50  m\r\n",
      "                   all       1392       2014      0.844       0.86      0.887      0.643\r\n",
      "\r\n",
      "      Epoch    GPU_mem   box_loss   cls_loss   dfl_loss  Instances       Size\r\n",
      "     52/100      10.1G     0.9091     0.6412      1.242         18        640: 1\r\n",
      "                 Class     Images  Instances      Box(P          R      mAP50  m\r\n",
      "                   all       1392       2014      0.856      0.857      0.887      0.642\r\n",
      "\r\n",
      "      Epoch    GPU_mem   box_loss   cls_loss   dfl_loss  Instances       Size\r\n",
      "     53/100      10.1G      0.903      0.633       1.24         21        640: 1\r\n",
      "                 Class     Images  Instances      Box(P          R      mAP50  m\r\n",
      "                   all       1392       2014      0.857      0.848      0.887      0.643\r\n",
      "\r\n",
      "      Epoch    GPU_mem   box_loss   cls_loss   dfl_loss  Instances       Size\r\n",
      "     54/100      10.1G     0.9015     0.6332      1.236         23        640: 1\r\n",
      "                 Class     Images  Instances      Box(P          R      mAP50  m\r\n",
      "                   all       1392       2014       0.86      0.852      0.888      0.643\r\n",
      "\r\n",
      "      Epoch    GPU_mem   box_loss   cls_loss   dfl_loss  Instances       Size\r\n",
      "     55/100      10.1G     0.8948     0.6279      1.234         19        640: 1\r\n",
      "                 Class     Images  Instances      Box(P          R      mAP50  m\r\n",
      "                   all       1392       2014       0.86      0.852      0.887      0.643\r\n",
      "\r\n",
      "      Epoch    GPU_mem   box_loss   cls_loss   dfl_loss  Instances       Size\r\n",
      "     56/100      10.1G     0.8892     0.6263      1.231         14        640: 1\r\n",
      "                 Class     Images  Instances      Box(P          R      mAP50  m\r\n",
      "                   all       1392       2014      0.862       0.85      0.887      0.642\r\n",
      "\r\n",
      "      Epoch    GPU_mem   box_loss   cls_loss   dfl_loss  Instances       Size\r\n",
      "     57/100      10.1G     0.8863      0.618       1.23         19        640: 1\r\n",
      "                 Class     Images  Instances      Box(P          R      mAP50  m\r\n",
      "                   all       1392       2014      0.862       0.85      0.888      0.643\r\n",
      "\r\n",
      "      Epoch    GPU_mem   box_loss   cls_loss   dfl_loss  Instances       Size\r\n",
      "     58/100      10.1G     0.8818     0.6174      1.227         14        640: 1\r\n",
      "                 Class     Images  Instances      Box(P          R      mAP50  m\r\n",
      "                   all       1392       2014      0.867      0.848      0.889      0.644\r\n",
      "\r\n",
      "      Epoch    GPU_mem   box_loss   cls_loss   dfl_loss  Instances       Size\r\n",
      "     59/100      10.1G     0.8776     0.6102      1.223         11        640: 1\r\n",
      "                 Class     Images  Instances      Box(P          R      mAP50  m\r\n",
      "                   all       1392       2014       0.86      0.854      0.889      0.646\r\n",
      "\r\n",
      "      Epoch    GPU_mem   box_loss   cls_loss   dfl_loss  Instances       Size\r\n",
      "     60/100      10.1G     0.8753     0.6083      1.222         11        640: 1\r\n",
      "                 Class     Images  Instances      Box(P          R      mAP50  m\r\n",
      "                   all       1392       2014      0.861      0.854      0.889      0.647\r\n",
      "\r\n",
      "      Epoch    GPU_mem   box_loss   cls_loss   dfl_loss  Instances       Size\r\n",
      "     61/100      10.1G      0.868     0.6009      1.217         14        640: 1\r\n",
      "                 Class     Images  Instances      Box(P          R      mAP50  m\r\n",
      "                   all       1392       2014      0.861      0.853       0.89      0.649\r\n",
      "\r\n",
      "      Epoch    GPU_mem   box_loss   cls_loss   dfl_loss  Instances       Size\r\n",
      "     62/100      9.82G     0.8653     0.5962      1.214         13        640: 1\r\n",
      "                 Class     Images  Instances      Box(P          R      mAP50  m\r\n",
      "                   all       1392       2014      0.857      0.853      0.889      0.648\r\n",
      "\r\n",
      "      Epoch    GPU_mem   box_loss   cls_loss   dfl_loss  Instances       Size\r\n",
      "     63/100      10.1G     0.8671     0.5995      1.213         12        640: 1\r\n",
      "                 Class     Images  Instances      Box(P          R      mAP50  m\r\n",
      "                   all       1392       2014       0.86      0.853      0.889      0.649\r\n",
      "\r\n",
      "      Epoch    GPU_mem   box_loss   cls_loss   dfl_loss  Instances       Size\r\n",
      "     64/100      10.1G     0.8565     0.5863      1.208         12        640: 1\r\n",
      "                 Class     Images  Instances      Box(P          R      mAP50  m\r\n",
      "                   all       1392       2014      0.859      0.853       0.89      0.649\r\n",
      "\r\n",
      "      Epoch    GPU_mem   box_loss   cls_loss   dfl_loss  Instances       Size\r\n",
      "     65/100      10.1G     0.8578     0.5877       1.21         15        640: 1\r\n",
      "                 Class     Images  Instances      Box(P          R      mAP50  m\r\n",
      "                   all       1392       2014      0.862      0.853       0.89      0.649\r\n",
      "\r\n",
      "      Epoch    GPU_mem   box_loss   cls_loss   dfl_loss  Instances       Size\r\n",
      "     66/100      10.1G      0.849       0.58      1.206         14        640: 1\r\n",
      "                 Class     Images  Instances      Box(P          R      mAP50  m\r\n",
      "                   all       1392       2014      0.858      0.855      0.891      0.649\r\n",
      "\r\n",
      "      Epoch    GPU_mem   box_loss   cls_loss   dfl_loss  Instances       Size\r\n",
      "     67/100      10.1G     0.8431     0.5749      1.203         15        640: 1\r\n",
      "                 Class     Images  Instances      Box(P          R      mAP50  m\r\n",
      "                   all       1392       2014      0.861      0.855      0.891       0.65\r\n",
      "\r\n",
      "      Epoch    GPU_mem   box_loss   cls_loss   dfl_loss  Instances       Size\r\n",
      "     68/100      10.1G     0.8417     0.5774      1.201         29        640: 1\r\n",
      "                 Class     Images  Instances      Box(P          R      mAP50  m\r\n",
      "                   all       1392       2014      0.856      0.856      0.891      0.649\r\n",
      "\r\n",
      "      Epoch    GPU_mem   box_loss   cls_loss   dfl_loss  Instances       Size\r\n",
      "     69/100      10.1G     0.8439     0.5762      1.199         33        640: 1\r\n",
      "                 Class     Images  Instances      Box(P          R      mAP50  m\r\n",
      "                   all       1392       2014      0.861      0.852      0.891       0.65\r\n",
      "\r\n",
      "      Epoch    GPU_mem   box_loss   cls_loss   dfl_loss  Instances       Size\r\n",
      "     70/100      10.1G     0.8316     0.5695      1.193         22        640: 1\r\n",
      "                 Class     Images  Instances      Box(P          R      mAP50  m\r\n",
      "                   all       1392       2014      0.863      0.852      0.892       0.65\r\n",
      "\r\n",
      "      Epoch    GPU_mem   box_loss   cls_loss   dfl_loss  Instances       Size\r\n",
      "     71/100      10.1G     0.8261     0.5635       1.19         22        640: 1\r\n",
      "                 Class     Images  Instances      Box(P          R      mAP50  m\r\n",
      "                   all       1392       2014      0.864      0.852      0.892      0.651\r\n",
      "\r\n",
      "      Epoch    GPU_mem   box_loss   cls_loss   dfl_loss  Instances       Size\r\n",
      "     72/100      10.1G     0.8299     0.5652      1.195         14        640: 1\r\n",
      "                 Class     Images  Instances      Box(P          R      mAP50  m\r\n",
      "                   all       1392       2014      0.864      0.853      0.892      0.651\r\n",
      "\r\n",
      "      Epoch    GPU_mem   box_loss   cls_loss   dfl_loss  Instances       Size\r\n",
      "     73/100      10.1G     0.8194     0.5595      1.187         15        640: 1\r\n",
      "                 Class     Images  Instances      Box(P          R      mAP50  m\r\n",
      "                   all       1392       2014      0.863      0.852      0.892      0.653\r\n",
      "\r\n",
      "      Epoch    GPU_mem   box_loss   cls_loss   dfl_loss  Instances       Size\r\n",
      "     74/100      10.1G     0.8143      0.551      1.184         11        640: 1\r\n",
      "                 Class     Images  Instances      Box(P          R      mAP50  m\r\n",
      "                   all       1392       2014      0.866      0.852      0.893      0.653\r\n",
      "\r\n",
      "      Epoch    GPU_mem   box_loss   cls_loss   dfl_loss  Instances       Size\r\n",
      "     75/100      10.1G     0.8083     0.5464       1.18         14        640: 1\r\n",
      "                 Class     Images  Instances      Box(P          R      mAP50  m\r\n",
      "                   all       1392       2014      0.868      0.852      0.893      0.654\r\n",
      "\r\n",
      "      Epoch    GPU_mem   box_loss   cls_loss   dfl_loss  Instances       Size\r\n",
      "     76/100      10.1G     0.8018       0.54      1.176         15        640: 1\r\n",
      "                 Class     Images  Instances      Box(P          R      mAP50  m\r\n",
      "                   all       1392       2014      0.869      0.852      0.894      0.654\r\n",
      "\r\n",
      "      Epoch    GPU_mem   box_loss   cls_loss   dfl_loss  Instances       Size\r\n",
      "     77/100      9.74G     0.8064     0.5426      1.176         10        640: 1\r\n",
      "                 Class     Images  Instances      Box(P          R      mAP50  m\r\n",
      "                   all       1392       2014      0.868      0.852      0.895      0.655\r\n",
      "\r\n",
      "      Epoch    GPU_mem   box_loss   cls_loss   dfl_loss  Instances       Size\r\n",
      "     78/100      10.1G      0.798     0.5341      1.174         11        640: 1\r\n",
      "                 Class     Images  Instances      Box(P          R      mAP50  m\r\n",
      "                   all       1392       2014      0.871      0.849      0.895      0.656\r\n",
      "\r\n",
      "      Epoch    GPU_mem   box_loss   cls_loss   dfl_loss  Instances       Size\r\n",
      "     79/100      10.1G     0.7999      0.534      1.173         13        640: 1\r\n",
      "                 Class     Images  Instances      Box(P          R      mAP50  m\r\n",
      "                   all       1392       2014      0.872      0.849      0.895      0.656\r\n",
      "\r\n",
      "      Epoch    GPU_mem   box_loss   cls_loss   dfl_loss  Instances       Size\r\n",
      "     80/100      10.1G     0.7921     0.5277      1.166         13        640: 1\r\n",
      "                 Class     Images  Instances      Box(P          R      mAP50  m\r\n",
      "                   all       1392       2014      0.874      0.848      0.896      0.656\r\n",
      "\r\n",
      "      Epoch    GPU_mem   box_loss   cls_loss   dfl_loss  Instances       Size\r\n",
      "     81/100      10.1G     0.7884     0.5305       1.17         15        640: 1\r\n",
      "                 Class     Images  Instances      Box(P          R      mAP50  m\r\n",
      "                   all       1392       2014      0.875      0.848      0.895      0.656\r\n",
      "\r\n",
      "      Epoch    GPU_mem   box_loss   cls_loss   dfl_loss  Instances       Size\r\n",
      "     82/100      10.1G     0.7811     0.5196      1.162         18        640: 1\r\n",
      "                 Class     Images  Instances      Box(P          R      mAP50  m\r\n",
      "                   all       1392       2014      0.873       0.85      0.896      0.656\r\n",
      "\r\n",
      "      Epoch    GPU_mem   box_loss   cls_loss   dfl_loss  Instances       Size\r\n",
      "     83/100      10.1G       0.78     0.5198      1.161         11        640: 1\r\n",
      "                 Class     Images  Instances      Box(P          R      mAP50  m\r\n",
      "                   all       1392       2014      0.875       0.85      0.897      0.656\r\n",
      "\r\n",
      "      Epoch    GPU_mem   box_loss   cls_loss   dfl_loss  Instances       Size\r\n",
      "     84/100      10.1G      0.772     0.5153      1.157         17        640: 1\r\n",
      "                 Class     Images  Instances      Box(P          R      mAP50  m\r\n",
      "                   all       1392       2014      0.877      0.849      0.897      0.655\r\n",
      "\r\n",
      "      Epoch    GPU_mem   box_loss   cls_loss   dfl_loss  Instances       Size\r\n",
      "     85/100      10.1G     0.7676     0.5114      1.154         29        640: 1\r\n",
      "                 Class     Images  Instances      Box(P          R      mAP50  m\r\n",
      "                   all       1392       2014      0.876      0.849      0.897      0.656\r\n",
      "\r\n",
      "      Epoch    GPU_mem   box_loss   cls_loss   dfl_loss  Instances       Size\r\n",
      "     86/100      10.1G     0.7682     0.5115      1.155         15        640: 1\r\n",
      "                 Class     Images  Instances      Box(P          R      mAP50  m\r\n",
      "                   all       1392       2014      0.875      0.847      0.898      0.655\r\n",
      "\r\n",
      "      Epoch    GPU_mem   box_loss   cls_loss   dfl_loss  Instances       Size\r\n",
      "     87/100      10.1G     0.7604     0.5057      1.152         15        640: 1\r\n",
      "                 Class     Images  Instances      Box(P          R      mAP50  m\r\n",
      "                   all       1392       2014      0.876      0.845      0.897      0.655\r\n",
      "\r\n",
      "      Epoch    GPU_mem   box_loss   cls_loss   dfl_loss  Instances       Size\r\n",
      "     88/100      10.1G     0.7541     0.4996      1.145         10        640: 1\r\n",
      "                 Class     Images  Instances      Box(P          R      mAP50  m\r\n",
      "                   all       1392       2014      0.879      0.844      0.898      0.657\r\n",
      "\r\n",
      "      Epoch    GPU_mem   box_loss   cls_loss   dfl_loss  Instances       Size\r\n",
      "     89/100      10.1G     0.7535     0.4986      1.144         16        640: 1\r\n",
      "                 Class     Images  Instances      Box(P          R      mAP50  m\r\n",
      "                   all       1392       2014      0.873      0.845      0.897      0.658\r\n",
      "\r\n",
      "      Epoch    GPU_mem   box_loss   cls_loss   dfl_loss  Instances       Size\r\n",
      "     90/100      10.1G     0.7499     0.4956      1.144         13        640: 1\r\n",
      "                 Class     Images  Instances      Box(P          R      mAP50  m\r\n",
      "                   all       1392       2014      0.876      0.844      0.898      0.658\r\n",
      "Closing dataloader mosaic\r\n",
      "\u001b[34m\u001b[1malbumentations: \u001b[0mBlur(p=0.01, blur_limit=(3, 7)), MedianBlur(p=0.01, blur_limit=(3, 7)), ToGray(p=0.01), CLAHE(p=0.01, clip_limit=(1, 4.0), tile_grid_size=(8, 8))\r\n",
      "\r\n",
      "      Epoch    GPU_mem   box_loss   cls_loss   dfl_loss  Instances       Size\r\n",
      "     91/100      10.1G     0.6576     0.3596      1.117          6        640: 1\r\n",
      "                 Class     Images  Instances      Box(P          R      mAP50  m\r\n",
      "                   all       1392       2014      0.873      0.845      0.898      0.658\r\n",
      "\r\n",
      "      Epoch    GPU_mem   box_loss   cls_loss   dfl_loss  Instances       Size\r\n",
      "     92/100      10.1G     0.6411      0.346      1.103          5        640: 1\r\n",
      "                 Class     Images  Instances      Box(P          R      mAP50  m\r\n",
      "                   all       1392       2014      0.876      0.845      0.898      0.659\r\n",
      "\r\n",
      "      Epoch    GPU_mem   box_loss   cls_loss   dfl_loss  Instances       Size\r\n",
      "     93/100      10.1G      0.632     0.3406      1.094          5        640: 1\r\n",
      "                 Class     Images  Instances      Box(P          R      mAP50  m\r\n",
      "                   all       1392       2014      0.884       0.84      0.899       0.66\r\n",
      "\r\n",
      "      Epoch    GPU_mem   box_loss   cls_loss   dfl_loss  Instances       Size\r\n",
      "     94/100      10.1G     0.6201     0.3341      1.088          9        640: 1\r\n",
      "                 Class     Images  Instances      Box(P          R      mAP50  m\r\n",
      "                   all       1392       2014      0.884      0.841      0.899       0.66\r\n",
      "\r\n",
      "      Epoch    GPU_mem   box_loss   cls_loss   dfl_loss  Instances       Size\r\n",
      "     95/100      10.1G     0.6129     0.3317      1.084          8        640: 1\r\n",
      "                 Class     Images  Instances      Box(P          R      mAP50  m\r\n",
      "                   all       1392       2014       0.88      0.842        0.9       0.66\r\n",
      "\r\n",
      "      Epoch    GPU_mem   box_loss   cls_loss   dfl_loss  Instances       Size\r\n",
      "     96/100      10.1G     0.6042     0.3228      1.076          5        640: 1\r\n",
      "                 Class     Images  Instances      Box(P          R      mAP50  m\r\n",
      "                   all       1392       2014      0.881      0.841        0.9      0.662\r\n",
      "\r\n",
      "      Epoch    GPU_mem   box_loss   cls_loss   dfl_loss  Instances       Size\r\n",
      "     97/100        10G      0.594     0.3199      1.069          5        640: 1\r\n",
      "                 Class     Images  Instances      Box(P          R      mAP50  m\r\n",
      "                   all       1392       2014      0.882       0.84        0.9      0.663\r\n",
      "\r\n",
      "      Epoch    GPU_mem   box_loss   cls_loss   dfl_loss  Instances       Size\r\n",
      "     98/100      10.1G     0.5917     0.3177      1.065          5        640: 1\r\n",
      "                 Class     Images  Instances      Box(P          R      mAP50  m\r\n",
      "                   all       1392       2014      0.881      0.841      0.901      0.663\r\n",
      "\r\n",
      "      Epoch    GPU_mem   box_loss   cls_loss   dfl_loss  Instances       Size\r\n",
      "     99/100      10.1G     0.5835     0.3109      1.061          5        640: 1\r\n",
      "                 Class     Images  Instances      Box(P          R      mAP50  m\r\n",
      "                   all       1392       2014       0.88      0.841      0.901      0.663\r\n",
      "\r\n",
      "      Epoch    GPU_mem   box_loss   cls_loss   dfl_loss  Instances       Size\r\n",
      "    100/100      10.1G     0.5789     0.3103       1.06          5        640: 1\r\n",
      "                 Class     Images  Instances      Box(P          R      mAP50  m\r\n",
      "                   all       1392       2014      0.882      0.844      0.901      0.664\r\n",
      "\r\n",
      "100 epochs completed in 11.070 hours.\r\n",
      "Optimizer stripped from runs/detect/train/weights/last.pt, 22.5MB\r\n",
      "Optimizer stripped from runs/detect/train/weights/best.pt, 22.5MB\r\n",
      "\r\n",
      "Validating runs/detect/train/weights/best.pt...\r\n",
      "Ultralytics YOLOv8.0.196 🚀 Python-3.10.13 torch-2.1.2 CUDA:0 (Tesla P100-PCIE-16GB, 16276MiB)\r\n",
      "Model summary (fused): 168 layers, 11127519 parameters, 0 gradients, 28.4 GFLOPs\r\n",
      "                 Class     Images  Instances      Box(P          R      mAP50  m\r\n",
      "                   all       1392       2014      0.883      0.843      0.901      0.664\r\n",
      "                bottle       1392        801      0.913      0.825      0.916      0.692\r\n",
      "             cigarette       1392        166      0.805      0.614      0.725      0.418\r\n",
      "                 phone       1392         73      0.878      0.885      0.937      0.656\r\n",
      "                 smoke       1392        864      0.999          1      0.995      0.913\r\n",
      "                  vape       1392        110      0.819      0.891      0.934      0.639\r\n",
      "Speed: 0.2ms preprocess, 4.5ms inference, 0.0ms loss, 1.6ms postprocess per image\r\n",
      "Results saved to \u001b[1mruns/detect/train\u001b[0m\r\n",
      "💡 Learn more at https://docs.ultralytics.com/modes/train\r\n"
     ]
    }
   ],
   "source": [
    "# %cd {HOME}\n",
    "\n",
    "!yolo task=detect mode=train model=yolov8s.pt data={dataset.location}/data.yaml epochs=100 imgsz=640 plots=True save=True batch=-1"
   ]
  },
  {
   "cell_type": "code",
   "execution_count": 7,
   "id": "48c1b71e",
   "metadata": {
    "execution": {
     "iopub.execute_input": "2024-06-04T02:25:20.865551Z",
     "iopub.status.busy": "2024-06-04T02:25:20.865173Z",
     "iopub.status.idle": "2024-06-04T02:25:20.869989Z",
     "shell.execute_reply": "2024-06-04T02:25:20.869082Z"
    },
    "papermill": {
     "duration": 5.481039,
     "end_time": "2024-06-04T02:25:20.871915",
     "exception": false,
     "start_time": "2024-06-04T02:25:15.390876",
     "status": "completed"
    },
    "tags": []
   },
   "outputs": [],
   "source": [
    "# %cd {HOME}\n",
    "\n",
    "# !yolo task=detect mode=train model=/kaggle/working/runs/detect/train/weights/best.pt data={dataset.location}/data.yaml epochs=40 imgsz=640 plots=True save=True batch=-1 "
   ]
  },
  {
   "cell_type": "code",
   "execution_count": 8,
   "id": "dfbc3c83",
   "metadata": {
    "execution": {
     "iopub.execute_input": "2024-06-04T02:25:32.165460Z",
     "iopub.status.busy": "2024-06-04T02:25:32.164656Z",
     "iopub.status.idle": "2024-06-04T02:25:32.169018Z",
     "shell.execute_reply": "2024-06-04T02:25:32.168179Z"
    },
    "papermill": {
     "duration": 5.658682,
     "end_time": "2024-06-04T02:25:32.170815",
     "exception": false,
     "start_time": "2024-06-04T02:25:26.512133",
     "status": "completed"
    },
    "tags": []
   },
   "outputs": [],
   "source": [
    "# !yolo task=detect mode=train model=/kaggle/working/runs/detect/train/weights/best.pt data={dataset.location}/data.yaml epochs=40 imgsz=640 plots=True save=True batch=-1 resume=True"
   ]
  },
  {
   "cell_type": "code",
   "execution_count": 9,
   "id": "e54a94f1",
   "metadata": {
    "execution": {
     "iopub.execute_input": "2024-06-04T02:25:43.456860Z",
     "iopub.status.busy": "2024-06-04T02:25:43.456492Z",
     "iopub.status.idle": "2024-06-04T02:25:43.460625Z",
     "shell.execute_reply": "2024-06-04T02:25:43.459743Z"
    },
    "papermill": {
     "duration": 5.649834,
     "end_time": "2024-06-04T02:25:43.462560",
     "exception": false,
     "start_time": "2024-06-04T02:25:37.812726",
     "status": "completed"
    },
    "tags": []
   },
   "outputs": [],
   "source": [
    "# !ls {HOME}/runs/detect/train/"
   ]
  },
  {
   "cell_type": "code",
   "execution_count": 10,
   "id": "9ae8d509",
   "metadata": {
    "execution": {
     "iopub.execute_input": "2024-06-04T02:25:54.916719Z",
     "iopub.status.busy": "2024-06-04T02:25:54.916031Z",
     "iopub.status.idle": "2024-06-04T02:25:54.920244Z",
     "shell.execute_reply": "2024-06-04T02:25:54.919260Z"
    },
    "papermill": {
     "duration": 5.48286,
     "end_time": "2024-06-04T02:25:54.922233",
     "exception": false,
     "start_time": "2024-06-04T02:25:49.439373",
     "status": "completed"
    },
    "tags": []
   },
   "outputs": [],
   "source": [
    "# %cd {HOME}\n",
    "# Image(filename=f'{HOME}/runs/detect/train/confusion_matrix.png', width=600)"
   ]
  },
  {
   "cell_type": "code",
   "execution_count": 11,
   "id": "194d768f",
   "metadata": {
    "execution": {
     "iopub.execute_input": "2024-06-04T02:26:06.149776Z",
     "iopub.status.busy": "2024-06-04T02:26:06.148866Z",
     "iopub.status.idle": "2024-06-04T02:26:06.152974Z",
     "shell.execute_reply": "2024-06-04T02:26:06.152256Z"
    },
    "papermill": {
     "duration": 5.585297,
     "end_time": "2024-06-04T02:26:06.154861",
     "exception": false,
     "start_time": "2024-06-04T02:26:00.569564",
     "status": "completed"
    },
    "tags": []
   },
   "outputs": [],
   "source": [
    "# %cd {HOME}\n",
    "# Image(filename=f'{HOME}/runs/detect/train/results.png', width=600)"
   ]
  },
  {
   "cell_type": "markdown",
   "id": "a605268d",
   "metadata": {
    "papermill": {
     "duration": 5.609476,
     "end_time": "2024-06-04T02:26:17.357532",
     "exception": false,
     "start_time": "2024-06-04T02:26:11.748056",
     "status": "completed"
    },
    "tags": []
   },
   "source": [
    "# Validate with Custom Data"
   ]
  },
  {
   "cell_type": "code",
   "execution_count": 12,
   "id": "a23ea417",
   "metadata": {
    "execution": {
     "iopub.execute_input": "2024-06-04T02:26:28.549778Z",
     "iopub.status.busy": "2024-06-04T02:26:28.548950Z",
     "iopub.status.idle": "2024-06-04T02:26:28.552926Z",
     "shell.execute_reply": "2024-06-04T02:26:28.551985Z"
    },
    "papermill": {
     "duration": 5.399257,
     "end_time": "2024-06-04T02:26:28.554931",
     "exception": false,
     "start_time": "2024-06-04T02:26:23.155674",
     "status": "completed"
    },
    "tags": []
   },
   "outputs": [],
   "source": [
    "# %cd {HOME}\n",
    "# {HOME}/runs/detect/train/weights/best.pt\n",
    "# !yolo task=detect mode=val model={HOME}/runs/detect/train/weights/best.pt data={dataset.location}/data.yaml"
   ]
  },
  {
   "cell_type": "markdown",
   "id": "1749655c",
   "metadata": {
    "papermill": {
     "duration": 5.716959,
     "end_time": "2024-06-04T02:26:39.824628",
     "exception": false,
     "start_time": "2024-06-04T02:26:34.107669",
     "status": "completed"
    },
    "tags": []
   },
   "source": [
    "# Inference with Custom Data"
   ]
  },
  {
   "cell_type": "code",
   "execution_count": 13,
   "id": "1fea7fd2",
   "metadata": {
    "execution": {
     "iopub.execute_input": "2024-06-04T02:26:51.040042Z",
     "iopub.status.busy": "2024-06-04T02:26:51.039251Z",
     "iopub.status.idle": "2024-06-04T02:26:51.043220Z",
     "shell.execute_reply": "2024-06-04T02:26:51.042352Z"
    },
    "papermill": {
     "duration": 5.642197,
     "end_time": "2024-06-04T02:26:51.045205",
     "exception": false,
     "start_time": "2024-06-04T02:26:45.403008",
     "status": "completed"
    },
    "tags": []
   },
   "outputs": [],
   "source": [
    "# %cd {HOME}\n",
    "# !yolo task=detect mode=predict model={HOME}/runs/detect/train/weights/best.pt conf=0.25 source={dataset.location}/test/images save=True"
   ]
  },
  {
   "cell_type": "code",
   "execution_count": 14,
   "id": "1db8f46a",
   "metadata": {
    "execution": {
     "iopub.execute_input": "2024-06-04T02:27:02.281969Z",
     "iopub.status.busy": "2024-06-04T02:27:02.281159Z",
     "iopub.status.idle": "2024-06-04T02:27:02.285291Z",
     "shell.execute_reply": "2024-06-04T02:27:02.284417Z"
    },
    "papermill": {
     "duration": 5.403496,
     "end_time": "2024-06-04T02:27:02.287276",
     "exception": false,
     "start_time": "2024-06-04T02:26:56.883780",
     "status": "completed"
    },
    "tags": []
   },
   "outputs": [],
   "source": [
    "# !yolo task=detect mode=predict model={HOME}/runs/detect/train/weights/best.pt conf=0.25 source='https://github.com/Braincore-C24-MS02/ML-Development/blob/main/dataset/video/driver_face_dataset.mp4'"
   ]
  }
 ],
 "metadata": {
  "kaggle": {
   "accelerator": "gpu",
   "dataSources": [],
   "dockerImageVersionId": 30699,
   "isGpuEnabled": true,
   "isInternetEnabled": true,
   "language": "python",
   "sourceType": "notebook"
  },
  "kernelspec": {
   "display_name": "Python 3",
   "language": "python",
   "name": "python3"
  },
  "language_info": {
   "codemirror_mode": {
    "name": "ipython",
    "version": 3
   },
   "file_extension": ".py",
   "mimetype": "text/x-python",
   "name": "python",
   "nbconvert_exporter": "python",
   "pygments_lexer": "ipython3",
   "version": "3.10.13"
  },
  "papermill": {
   "default_parameters": {},
   "duration": 40167.195371,
   "end_time": "2024-06-04T02:27:09.157105",
   "environment_variables": {},
   "exception": null,
   "input_path": "__notebook__.ipynb",
   "output_path": "__notebook__.ipynb",
   "parameters": {},
   "start_time": "2024-06-03T15:17:41.961734",
   "version": "2.5.0"
  }
 },
 "nbformat": 4,
 "nbformat_minor": 5
}
