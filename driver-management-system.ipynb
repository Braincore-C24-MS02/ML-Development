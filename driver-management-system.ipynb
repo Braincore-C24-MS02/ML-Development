{
 "cells": [
  {
   "cell_type": "markdown",
   "id": "8b182a02",
   "metadata": {
    "papermill": {
     "duration": 0.004665,
     "end_time": "2024-06-01T05:39:07.423048",
     "exception": false,
     "start_time": "2024-06-01T05:39:07.418383",
     "status": "completed"
    },
    "tags": []
   },
   "source": [
    "## Before you start\n",
    "\n",
    "Let's make sure that we have access to GPU. We can use `nvidia-smi` command to do that."
   ]
  },
  {
   "cell_type": "code",
   "execution_count": 1,
   "id": "b81174f0",
   "metadata": {
    "execution": {
     "iopub.execute_input": "2024-06-01T05:39:07.432730Z",
     "iopub.status.busy": "2024-06-01T05:39:07.432455Z",
     "iopub.status.idle": "2024-06-01T05:39:08.470033Z",
     "shell.execute_reply": "2024-06-01T05:39:08.468823Z"
    },
    "papermill": {
     "duration": 1.044875,
     "end_time": "2024-06-01T05:39:08.472388",
     "exception": false,
     "start_time": "2024-06-01T05:39:07.427513",
     "status": "completed"
    },
    "tags": []
   },
   "outputs": [
    {
     "name": "stdout",
     "output_type": "stream",
     "text": [
      "Sat Jun  1 05:39:08 2024       \r\n",
      "+---------------------------------------------------------------------------------------+\r\n",
      "| NVIDIA-SMI 535.129.03             Driver Version: 535.129.03   CUDA Version: 12.2     |\r\n",
      "|-----------------------------------------+----------------------+----------------------+\r\n",
      "| GPU  Name                 Persistence-M | Bus-Id        Disp.A | Volatile Uncorr. ECC |\r\n",
      "| Fan  Temp   Perf          Pwr:Usage/Cap |         Memory-Usage | GPU-Util  Compute M. |\r\n",
      "|                                         |                      |               MIG M. |\r\n",
      "|=========================================+======================+======================|\r\n",
      "|   0  Tesla T4                       Off | 00000000:00:04.0 Off |                    0 |\r\n",
      "| N/A   37C    P8               9W /  70W |      0MiB / 15360MiB |      0%      Default |\r\n",
      "|                                         |                      |                  N/A |\r\n",
      "+-----------------------------------------+----------------------+----------------------+\r\n",
      "|   1  Tesla T4                       Off | 00000000:00:05.0 Off |                    0 |\r\n",
      "| N/A   40C    P8               9W /  70W |      0MiB / 15360MiB |      0%      Default |\r\n",
      "|                                         |                      |                  N/A |\r\n",
      "+-----------------------------------------+----------------------+----------------------+\r\n",
      "                                                                                         \r\n",
      "+---------------------------------------------------------------------------------------+\r\n",
      "| Processes:                                                                            |\r\n",
      "|  GPU   GI   CI        PID   Type   Process name                            GPU Memory |\r\n",
      "|        ID   ID                                                             Usage      |\r\n",
      "|=======================================================================================|\r\n",
      "|  No running processes found                                                           |\r\n",
      "+---------------------------------------------------------------------------------------+\r\n"
     ]
    }
   ],
   "source": [
    "!nvidia-smi"
   ]
  },
  {
   "cell_type": "code",
   "execution_count": 2,
   "id": "d34edb31",
   "metadata": {
    "execution": {
     "iopub.execute_input": "2024-06-01T05:39:08.482922Z",
     "iopub.status.busy": "2024-06-01T05:39:08.482611Z",
     "iopub.status.idle": "2024-06-01T05:39:08.487385Z",
     "shell.execute_reply": "2024-06-01T05:39:08.486490Z"
    },
    "papermill": {
     "duration": 0.012569,
     "end_time": "2024-06-01T05:39:08.489712",
     "exception": false,
     "start_time": "2024-06-01T05:39:08.477143",
     "status": "completed"
    },
    "tags": []
   },
   "outputs": [
    {
     "name": "stdout",
     "output_type": "stream",
     "text": [
      "/kaggle/working\n"
     ]
    }
   ],
   "source": [
    "import os\n",
    "HOME = os.getcwd()\n",
    "print(HOME)"
   ]
  },
  {
   "cell_type": "markdown",
   "id": "ea92ae81",
   "metadata": {
    "papermill": {
     "duration": 0.004296,
     "end_time": "2024-06-01T05:39:08.498615",
     "exception": false,
     "start_time": "2024-06-01T05:39:08.494319",
     "status": "completed"
    },
    "tags": []
   },
   "source": [
    "## Install YOLOv8"
   ]
  },
  {
   "cell_type": "code",
   "execution_count": 3,
   "id": "04ac729b",
   "metadata": {
    "execution": {
     "iopub.execute_input": "2024-06-01T05:39:08.508702Z",
     "iopub.status.busy": "2024-06-01T05:39:08.508434Z",
     "iopub.status.idle": "2024-06-01T05:39:32.182255Z",
     "shell.execute_reply": "2024-06-01T05:39:32.181294Z"
    },
    "papermill": {
     "duration": 23.681181,
     "end_time": "2024-06-01T05:39:32.184285",
     "exception": false,
     "start_time": "2024-06-01T05:39:08.503104",
     "status": "completed"
    },
    "tags": []
   },
   "outputs": [
    {
     "name": "stderr",
     "output_type": "stream",
     "text": [
      "Ultralytics YOLOv8.0.196 🚀 Python-3.10.13 torch-2.1.2 CUDA:0 (Tesla T4, 15102MiB)\n",
      "Setup complete ✅ (4 CPUs, 31.4 GB RAM, 5643.4/8062.4 GB disk)\n"
     ]
    }
   ],
   "source": [
    "# Pip install method (recommended)\n",
    "\n",
    "!pip install ultralytics==8.0.196\n",
    "\n",
    "import ultralytics\n",
    "ultralytics.checks()"
   ]
  },
  {
   "cell_type": "code",
   "execution_count": 4,
   "id": "00a90630",
   "metadata": {
    "execution": {
     "iopub.execute_input": "2024-06-01T05:39:32.195732Z",
     "iopub.status.busy": "2024-06-01T05:39:32.195072Z",
     "iopub.status.idle": "2024-06-01T05:39:32.200725Z",
     "shell.execute_reply": "2024-06-01T05:39:32.199899Z"
    },
    "papermill": {
     "duration": 0.013265,
     "end_time": "2024-06-01T05:39:32.202610",
     "exception": false,
     "start_time": "2024-06-01T05:39:32.189345",
     "status": "completed"
    },
    "tags": []
   },
   "outputs": [],
   "source": [
    "from IPython import display\n",
    "display.clear_output()\n",
    "\n",
    "from IPython.display import Image\n",
    "from ultralytics import YOLO"
   ]
  },
  {
   "cell_type": "markdown",
   "id": "5a983b44",
   "metadata": {
    "papermill": {
     "duration": 0.004665,
     "end_time": "2024-06-01T05:39:32.212077",
     "exception": false,
     "start_time": "2024-06-01T05:39:32.207412",
     "status": "completed"
    },
    "tags": []
   },
   "source": [
    "## Preparing a custom dataset"
   ]
  },
  {
   "cell_type": "code",
   "execution_count": 5,
   "id": "8f1d3282",
   "metadata": {
    "execution": {
     "iopub.execute_input": "2024-06-01T05:39:32.222916Z",
     "iopub.status.busy": "2024-06-01T05:39:32.222667Z",
     "iopub.status.idle": "2024-06-01T05:40:19.940180Z",
     "shell.execute_reply": "2024-06-01T05:40:19.939366Z"
    },
    "papermill": {
     "duration": 47.725532,
     "end_time": "2024-06-01T05:40:19.942475",
     "exception": false,
     "start_time": "2024-06-01T05:39:32.216943",
     "status": "completed"
    },
    "tags": []
   },
   "outputs": [
    {
     "name": "stdout",
     "output_type": "stream",
     "text": [
      "/kaggle/working/datasets\n",
      "Collecting roboflow\r\n",
      "  Downloading roboflow-1.1.30-py3-none-any.whl.metadata (9.3 kB)\r\n",
      "Collecting certifi==2023.7.22 (from roboflow)\r\n",
      "  Downloading certifi-2023.7.22-py3-none-any.whl.metadata (2.2 kB)\r\n",
      "Collecting chardet==4.0.0 (from roboflow)\r\n",
      "  Downloading chardet-4.0.0-py2.py3-none-any.whl.metadata (3.5 kB)\r\n",
      "Collecting cycler==0.10.0 (from roboflow)\r\n",
      "  Downloading cycler-0.10.0-py2.py3-none-any.whl.metadata (722 bytes)\r\n",
      "Collecting idna==2.10 (from roboflow)\r\n",
      "  Downloading idna-2.10-py2.py3-none-any.whl.metadata (9.1 kB)\r\n",
      "Requirement already satisfied: kiwisolver>=1.3.1 in /opt/conda/lib/python3.10/site-packages (from roboflow) (1.4.5)\r\n",
      "Requirement already satisfied: matplotlib in /opt/conda/lib/python3.10/site-packages (from roboflow) (3.7.5)\r\n",
      "Requirement already satisfied: numpy>=1.18.5 in /opt/conda/lib/python3.10/site-packages (from roboflow) (1.26.4)\r\n",
      "Collecting opencv-python-headless==4.8.0.74 (from roboflow)\r\n",
      "  Downloading opencv_python_headless-4.8.0.74-cp37-abi3-manylinux_2_17_x86_64.manylinux2014_x86_64.whl.metadata (19 kB)\r\n",
      "Requirement already satisfied: Pillow>=7.1.2 in /opt/conda/lib/python3.10/site-packages (from roboflow) (9.5.0)\r\n",
      "Requirement already satisfied: python-dateutil in /opt/conda/lib/python3.10/site-packages (from roboflow) (2.9.0.post0)\r\n",
      "Requirement already satisfied: python-dotenv in /opt/conda/lib/python3.10/site-packages (from roboflow) (1.0.0)\r\n",
      "Requirement already satisfied: requests in /opt/conda/lib/python3.10/site-packages (from roboflow) (2.31.0)\r\n",
      "Requirement already satisfied: six in /opt/conda/lib/python3.10/site-packages (from roboflow) (1.16.0)\r\n",
      "Requirement already satisfied: urllib3>=1.26.6 in /opt/conda/lib/python3.10/site-packages (from roboflow) (1.26.18)\r\n",
      "Requirement already satisfied: tqdm>=4.41.0 in /opt/conda/lib/python3.10/site-packages (from roboflow) (4.66.1)\r\n",
      "Requirement already satisfied: PyYAML>=5.3.1 in /opt/conda/lib/python3.10/site-packages (from roboflow) (6.0.1)\r\n",
      "Requirement already satisfied: requests-toolbelt in /opt/conda/lib/python3.10/site-packages (from roboflow) (0.10.1)\r\n",
      "Collecting python-magic (from roboflow)\r\n",
      "  Downloading python_magic-0.4.27-py2.py3-none-any.whl.metadata (5.8 kB)\r\n",
      "Requirement already satisfied: contourpy>=1.0.1 in /opt/conda/lib/python3.10/site-packages (from matplotlib->roboflow) (1.2.0)\r\n",
      "Requirement already satisfied: fonttools>=4.22.0 in /opt/conda/lib/python3.10/site-packages (from matplotlib->roboflow) (4.47.0)\r\n",
      "Requirement already satisfied: packaging>=20.0 in /opt/conda/lib/python3.10/site-packages (from matplotlib->roboflow) (21.3)\r\n",
      "Requirement already satisfied: pyparsing>=2.3.1 in /opt/conda/lib/python3.10/site-packages (from matplotlib->roboflow) (3.1.1)\r\n",
      "Requirement already satisfied: charset-normalizer<4,>=2 in /opt/conda/lib/python3.10/site-packages (from requests->roboflow) (3.3.2)\r\n",
      "Downloading roboflow-1.1.30-py3-none-any.whl (75 kB)\r\n",
      "\u001b[2K   \u001b[90m━━━━━━━━━━━━━━━━━━━━━━━━━━━━━━━━━━━━━━━━\u001b[0m \u001b[32m75.5/75.5 kB\u001b[0m \u001b[31m3.9 MB/s\u001b[0m eta \u001b[36m0:00:00\u001b[0m\r\n",
      "\u001b[?25hDownloading certifi-2023.7.22-py3-none-any.whl (158 kB)\r\n",
      "\u001b[2K   \u001b[90m━━━━━━━━━━━━━━━━━━━━━━━━━━━━━━━━━━━━━━━━\u001b[0m \u001b[32m158.3/158.3 kB\u001b[0m \u001b[31m9.0 MB/s\u001b[0m eta \u001b[36m0:00:00\u001b[0m\r\n",
      "\u001b[?25hDownloading chardet-4.0.0-py2.py3-none-any.whl (178 kB)\r\n",
      "\u001b[2K   \u001b[90m━━━━━━━━━━━━━━━━━━━━━━━━━━━━━━━━━━━━━━━━\u001b[0m \u001b[32m178.7/178.7 kB\u001b[0m \u001b[31m11.4 MB/s\u001b[0m eta \u001b[36m0:00:00\u001b[0m\r\n",
      "\u001b[?25hDownloading cycler-0.10.0-py2.py3-none-any.whl (6.5 kB)\r\n",
      "Downloading idna-2.10-py2.py3-none-any.whl (58 kB)\r\n",
      "\u001b[2K   \u001b[90m━━━━━━━━━━━━━━━━━━━━━━━━━━━━━━━━━━━━━━━━\u001b[0m \u001b[32m58.8/58.8 kB\u001b[0m \u001b[31m3.5 MB/s\u001b[0m eta \u001b[36m0:00:00\u001b[0m\r\n",
      "\u001b[?25hDownloading opencv_python_headless-4.8.0.74-cp37-abi3-manylinux_2_17_x86_64.manylinux2014_x86_64.whl (49.1 MB)\r\n",
      "\u001b[2K   \u001b[90m━━━━━━━━━━━━━━━━━━━━━━━━━━━━━━━━━━━━━━━━\u001b[0m \u001b[32m49.1/49.1 MB\u001b[0m \u001b[31m36.0 MB/s\u001b[0m eta \u001b[36m0:00:00\u001b[0m\r\n",
      "\u001b[?25hDownloading python_magic-0.4.27-py2.py3-none-any.whl (13 kB)\r\n",
      "Installing collected packages: python-magic, opencv-python-headless, idna, cycler, chardet, certifi, roboflow\r\n",
      "  Attempting uninstall: opencv-python-headless\r\n",
      "    Found existing installation: opencv-python-headless 4.9.0.80\r\n",
      "    Uninstalling opencv-python-headless-4.9.0.80:\r\n",
      "      Successfully uninstalled opencv-python-headless-4.9.0.80\r\n",
      "  Attempting uninstall: idna\r\n",
      "    Found existing installation: idna 3.6\r\n",
      "    Uninstalling idna-3.6:\r\n",
      "      Successfully uninstalled idna-3.6\r\n",
      "  Attempting uninstall: cycler\r\n",
      "    Found existing installation: cycler 0.12.1\r\n",
      "    Uninstalling cycler-0.12.1:\r\n",
      "      Successfully uninstalled cycler-0.12.1\r\n",
      "  Attempting uninstall: certifi\r\n",
      "    Found existing installation: certifi 2024.2.2\r\n",
      "    Uninstalling certifi-2024.2.2:\r\n",
      "      Successfully uninstalled certifi-2024.2.2\r\n",
      "\u001b[31mERROR: pip's dependency resolver does not currently take into account all the packages that are installed. This behaviour is the source of the following dependency conflicts.\r\n",
      "tensorflow-decision-forests 1.8.1 requires wurlitzer, which is not installed.\r\n",
      "jupyterlab 4.1.6 requires jupyter-lsp>=2.0.0, but you have jupyter-lsp 1.5.1 which is incompatible.\r\n",
      "jupyterlab-lsp 5.1.0 requires jupyter-lsp>=2.0.0, but you have jupyter-lsp 1.5.1 which is incompatible.\r\n",
      "libpysal 4.9.2 requires packaging>=22, but you have packaging 21.3 which is incompatible.\r\n",
      "libpysal 4.9.2 requires shapely>=2.0.1, but you have shapely 1.8.5.post1 which is incompatible.\r\n",
      "momepy 0.7.0 requires shapely>=2, but you have shapely 1.8.5.post1 which is incompatible.\r\n",
      "osmnx 1.9.2 requires shapely>=2.0, but you have shapely 1.8.5.post1 which is incompatible.\r\n",
      "spopt 0.6.0 requires shapely>=2.0.1, but you have shapely 1.8.5.post1 which is incompatible.\r\n",
      "tensorflow 2.15.0 requires keras<2.16,>=2.15.0, but you have keras 3.2.1 which is incompatible.\r\n",
      "ydata-profiling 4.6.4 requires numpy<1.26,>=1.16.0, but you have numpy 1.26.4 which is incompatible.\u001b[0m\u001b[31m\r\n",
      "\u001b[0mSuccessfully installed certifi-2023.7.22 chardet-4.0.0 cycler-0.10.0 idna-2.10 opencv-python-headless-4.8.0.74 python-magic-0.4.27 roboflow-1.1.30\r\n",
      "loading Roboflow workspace...\n",
      "loading Roboflow project...\n"
     ]
    },
    {
     "name": "stderr",
     "output_type": "stream",
     "text": [
      "Downloading Dataset Version Zip in driving-monitoring-system-2 to yolov8:: 100%|██████████| 929067/929067 [00:21<00:00, 43712.23it/s]"
     ]
    },
    {
     "name": "stdout",
     "output_type": "stream",
     "text": [
      "\n"
     ]
    },
    {
     "name": "stderr",
     "output_type": "stream",
     "text": [
      "\n",
      "Extracting Dataset Version Zip to driving-monitoring-system-2 in yolov8:: 100%|██████████| 49836/49836 [00:06<00:00, 7840.80it/s]\n"
     ]
    }
   ],
   "source": [
    "!mkdir {HOME}/datasets\n",
    "%cd {HOME}/datasets\n",
    "\n",
    "!pip install roboflow\n",
    "\n",
    "from roboflow import Roboflow\n",
    "rf = Roboflow(api_key=\"AgRivcdffivrgaoMEErV\")\n",
    "project = rf.workspace(\"driver-wlf6m\").project(\"driving-monitoring-system\")\n",
    "version = project.version(2)\n",
    "dataset = version.download(\"yolov8\")"
   ]
  },
  {
   "cell_type": "markdown",
   "id": "28c227ed",
   "metadata": {
    "papermill": {
     "duration": 0.027885,
     "end_time": "2024-06-01T05:40:20.000561",
     "exception": false,
     "start_time": "2024-06-01T05:40:19.972676",
     "status": "completed"
    },
    "tags": []
   },
   "source": [
    "## Custom training\n",
    "\n",
    "Don't forget to add `resume` parameter so that you can continue your training"
   ]
  },
  {
   "cell_type": "code",
   "execution_count": 6,
   "id": "6174e473",
   "metadata": {
    "execution": {
     "iopub.execute_input": "2024-06-01T05:40:20.058566Z",
     "iopub.status.busy": "2024-06-01T05:40:20.057707Z",
     "iopub.status.idle": "2024-06-01T05:40:20.061657Z",
     "shell.execute_reply": "2024-06-01T05:40:20.060984Z"
    },
    "papermill": {
     "duration": 0.034819,
     "end_time": "2024-06-01T05:40:20.063403",
     "exception": false,
     "start_time": "2024-06-01T05:40:20.028584",
     "status": "completed"
    },
    "tags": []
   },
   "outputs": [],
   "source": [
    "# %cd {HOME}\n",
    "\n",
    "# !yolo task=detect mode=train model=yolov8s.pt data={dataset.location}/data.yaml epochs=75 imgsz=640 plots=True save=True batch=-1"
   ]
  },
  {
   "cell_type": "code",
   "execution_count": 7,
   "id": "394d0103",
   "metadata": {
    "execution": {
     "iopub.execute_input": "2024-06-01T05:40:20.120340Z",
     "iopub.status.busy": "2024-06-01T05:40:20.120080Z",
     "iopub.status.idle": "2024-06-01T05:40:30.333130Z",
     "shell.execute_reply": "2024-06-01T05:40:30.331986Z"
    },
    "papermill": {
     "duration": 10.243956,
     "end_time": "2024-06-01T05:40:30.335408",
     "exception": false,
     "start_time": "2024-06-01T05:40:20.091452",
     "status": "completed"
    },
    "tags": []
   },
   "outputs": [
    {
     "name": "stdout",
     "output_type": "stream",
     "text": [
      "/kaggle/working\n",
      "Traceback (most recent call last):\r\n",
      "  File \"/opt/conda/bin/yolo\", line 8, in <module>\r\n",
      "    sys.exit(entrypoint())\r\n",
      "  File \"/opt/conda/lib/python3.10/site-packages/ultralytics/cfg/__init__.py\", line 420, in entrypoint\r\n",
      "    model = YOLO(model, task=task)\r\n",
      "  File \"/opt/conda/lib/python3.10/site-packages/ultralytics/engine/model.py\", line 97, in __init__\r\n",
      "    self._load(model, task)\r\n",
      "  File \"/opt/conda/lib/python3.10/site-packages/ultralytics/engine/model.py\", line 149, in _load\r\n",
      "    self.model, self.ckpt = attempt_load_one_weight(weights)\r\n",
      "  File \"/opt/conda/lib/python3.10/site-packages/ultralytics/nn/tasks.py\", line 628, in attempt_load_one_weight\r\n",
      "    ckpt, weight = torch_safe_load(weight)  # load ckpt\r\n",
      "  File \"/opt/conda/lib/python3.10/site-packages/ultralytics/nn/tasks.py\", line 567, in torch_safe_load\r\n",
      "    return torch.load(file, map_location='cpu'), file  # load\r\n",
      "  File \"/opt/conda/lib/python3.10/site-packages/torch/serialization.py\", line 986, in load\r\n",
      "    with _open_file_like(f, 'rb') as opened_file:\r\n",
      "  File \"/opt/conda/lib/python3.10/site-packages/torch/serialization.py\", line 435, in _open_file_like\r\n",
      "    return _open_file(name_or_buffer, mode)\r\n",
      "  File \"/opt/conda/lib/python3.10/site-packages/torch/serialization.py\", line 416, in __init__\r\n",
      "    super().__init__(open(name, mode))\r\n",
      "FileNotFoundError: [Errno 2] No such file or directory: '/kaggle/working/runs/detect/train/weights/best.pt'\r\n"
     ]
    }
   ],
   "source": [
    "%cd {HOME}\n",
    "\n",
    "!yolo task=detect mode=train model={HOME}/runs/detect/train/weights/best.pt data={dataset.location}/data.yaml epochs=100 imgsz=640 plots=True save=True batch=-1 resume=True "
   ]
  },
  {
   "cell_type": "code",
   "execution_count": 8,
   "id": "0890e4d3",
   "metadata": {
    "execution": {
     "iopub.execute_input": "2024-06-01T05:40:30.394040Z",
     "iopub.status.busy": "2024-06-01T05:40:30.393730Z",
     "iopub.status.idle": "2024-06-01T05:40:30.397897Z",
     "shell.execute_reply": "2024-06-01T05:40:30.397075Z"
    },
    "papermill": {
     "duration": 0.035525,
     "end_time": "2024-06-01T05:40:30.399802",
     "exception": false,
     "start_time": "2024-06-01T05:40:30.364277",
     "status": "completed"
    },
    "tags": []
   },
   "outputs": [],
   "source": [
    "# !ls {HOME}/runs/detect/train/"
   ]
  },
  {
   "cell_type": "code",
   "execution_count": 9,
   "id": "5620bbac",
   "metadata": {
    "execution": {
     "iopub.execute_input": "2024-06-01T05:40:30.461559Z",
     "iopub.status.busy": "2024-06-01T05:40:30.461303Z",
     "iopub.status.idle": "2024-06-01T05:40:30.464880Z",
     "shell.execute_reply": "2024-06-01T05:40:30.464059Z"
    },
    "papermill": {
     "duration": 0.037152,
     "end_time": "2024-06-01T05:40:30.466820",
     "exception": false,
     "start_time": "2024-06-01T05:40:30.429668",
     "status": "completed"
    },
    "tags": []
   },
   "outputs": [],
   "source": [
    "# %cd {HOME}\n",
    "# Image(filename=f'{HOME}/runs/detect/train/confusion_matrix.png', width=600)"
   ]
  },
  {
   "cell_type": "code",
   "execution_count": 10,
   "id": "9431f1ea",
   "metadata": {
    "execution": {
     "iopub.execute_input": "2024-06-01T05:40:30.525613Z",
     "iopub.status.busy": "2024-06-01T05:40:30.525353Z",
     "iopub.status.idle": "2024-06-01T05:40:30.528888Z",
     "shell.execute_reply": "2024-06-01T05:40:30.528057Z"
    },
    "papermill": {
     "duration": 0.034922,
     "end_time": "2024-06-01T05:40:30.530850",
     "exception": false,
     "start_time": "2024-06-01T05:40:30.495928",
     "status": "completed"
    },
    "tags": []
   },
   "outputs": [],
   "source": [
    "# %cd {HOME}\n",
    "# Image(filename=f'{HOME}/runs/detect/train/results.png', width=600)"
   ]
  },
  {
   "cell_type": "markdown",
   "id": "ebe62b5f",
   "metadata": {
    "papermill": {
     "duration": 0.030913,
     "end_time": "2024-06-01T05:40:30.593256",
     "exception": false,
     "start_time": "2024-06-01T05:40:30.562343",
     "status": "completed"
    },
    "tags": []
   },
   "source": [
    "# Validate with Custom Data"
   ]
  },
  {
   "cell_type": "code",
   "execution_count": 11,
   "id": "62c518ac",
   "metadata": {
    "execution": {
     "iopub.execute_input": "2024-06-01T05:40:30.652733Z",
     "iopub.status.busy": "2024-06-01T05:40:30.652458Z",
     "iopub.status.idle": "2024-06-01T05:40:30.656160Z",
     "shell.execute_reply": "2024-06-01T05:40:30.655389Z"
    },
    "papermill": {
     "duration": 0.035663,
     "end_time": "2024-06-01T05:40:30.657994",
     "exception": false,
     "start_time": "2024-06-01T05:40:30.622331",
     "status": "completed"
    },
    "tags": []
   },
   "outputs": [],
   "source": [
    "# %cd {HOME}\n",
    "# {HOME}/runs/detect/train/weights/best.pt\n",
    "# !yolo task=detect mode=val model={HOME}/runs/detect/train/weights/best.pt data={dataset.location}/data.yaml"
   ]
  },
  {
   "cell_type": "markdown",
   "id": "d15b5598",
   "metadata": {
    "papermill": {
     "duration": 0.028923,
     "end_time": "2024-06-01T05:40:30.716475",
     "exception": false,
     "start_time": "2024-06-01T05:40:30.687552",
     "status": "completed"
    },
    "tags": []
   },
   "source": [
    "# Inference with Custom Data"
   ]
  },
  {
   "cell_type": "code",
   "execution_count": 12,
   "id": "84a2615c",
   "metadata": {
    "execution": {
     "iopub.execute_input": "2024-06-01T05:40:30.775521Z",
     "iopub.status.busy": "2024-06-01T05:40:30.775276Z",
     "iopub.status.idle": "2024-06-01T05:40:30.778723Z",
     "shell.execute_reply": "2024-06-01T05:40:30.777911Z"
    },
    "papermill": {
     "duration": 0.035052,
     "end_time": "2024-06-01T05:40:30.780550",
     "exception": false,
     "start_time": "2024-06-01T05:40:30.745498",
     "status": "completed"
    },
    "tags": []
   },
   "outputs": [],
   "source": [
    "# %cd {HOME}\n",
    "# !yolo task=detect mode=predict model={HOME}/runs/detect/train/weights/best.pt conf=0.25 source={dataset.location}/test/images save=True"
   ]
  },
  {
   "cell_type": "code",
   "execution_count": 13,
   "id": "e25fb21e",
   "metadata": {
    "execution": {
     "iopub.execute_input": "2024-06-01T05:40:30.841813Z",
     "iopub.status.busy": "2024-06-01T05:40:30.841545Z",
     "iopub.status.idle": "2024-06-01T05:40:30.845335Z",
     "shell.execute_reply": "2024-06-01T05:40:30.844541Z"
    },
    "papermill": {
     "duration": 0.036784,
     "end_time": "2024-06-01T05:40:30.847278",
     "exception": false,
     "start_time": "2024-06-01T05:40:30.810494",
     "status": "completed"
    },
    "tags": []
   },
   "outputs": [],
   "source": [
    "# !yolo task=detect mode=predict model={HOME}/runs/detect/train/weights/best.pt conf=0.25 source='https://github.com/Braincore-C24-MS02/ML-Development/blob/main/dataset/video/driver_face_dataset.mp4'"
   ]
  }
 ],
 "metadata": {
  "kaggle": {
   "accelerator": "nvidiaTeslaT4",
   "dataSources": [],
   "dockerImageVersionId": 30699,
   "isGpuEnabled": true,
   "isInternetEnabled": true,
   "language": "python",
   "sourceType": "notebook"
  },
  "kernelspec": {
   "display_name": "Python 3",
   "language": "python",
   "name": "python3"
  },
  "language_info": {
   "codemirror_mode": {
    "name": "ipython",
    "version": 3
   },
   "file_extension": ".py",
   "mimetype": "text/x-python",
   "name": "python",
   "nbconvert_exporter": "python",
   "pygments_lexer": "ipython3",
   "version": "3.10.13"
  },
  "papermill": {
   "default_parameters": {},
   "duration": 87.364974,
   "end_time": "2024-06-01T05:40:31.895528",
   "environment_variables": {},
   "exception": null,
   "input_path": "__notebook__.ipynb",
   "output_path": "__notebook__.ipynb",
   "parameters": {},
   "start_time": "2024-06-01T05:39:04.530554",
   "version": "2.5.0"
  }
 },
 "nbformat": 4,
 "nbformat_minor": 5
}
